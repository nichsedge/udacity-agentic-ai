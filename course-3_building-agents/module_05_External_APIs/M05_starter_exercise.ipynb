{
 "cells": [
  {
   "cell_type": "markdown",
   "id": "e3778898",
   "metadata": {},
   "source": [
    "# [STARTER] Exercise - Create an Agent with external API call enabled\n",
    "\n",
    "In this exercise, you'll build an agent that can interact with external APIs to gather real-time data\n",
    "and provide responses based on that information. You'll combine concepts from state management and\n",
    "memory while adding the ability to make external API calls safely and effectively.\n"
   ]
  },
  {
   "cell_type": "markdown",
   "id": "12e57bd8",
   "metadata": {},
   "source": [
    "## Challenge\n",
    "\n",
    "Your task is to create an agent that can make External API Calls:\n",
    "\n",
    "- Implement tools that interact with real APIs\n",
    "- Handle API responses and errors gracefully\n",
    "- Use environment variables for API keys\n",
    "- Process and format API data for user consumption"
   ]
  },
  {
   "cell_type": "markdown",
   "id": "9fa44fc7",
   "metadata": {},
   "source": [
    "## Setup\n",
    "First, let's import the necessary libraries:"
   ]
  },
  {
   "cell_type": "code",
   "execution_count": null,
   "id": "08286c75",
   "metadata": {},
   "outputs": [],
   "source": [
    "import os\n",
    "import random\n",
    "from typing import List\n",
    "import requests\n",
    "from dotenv import load_dotenv\n",
    "\n",
    "from lib.agents import Agent\n",
    "from lib.messages import BaseMessage\n",
    "from lib.tooling import tool"
   ]
  },
  {
   "cell_type": "code",
   "execution_count": null,
   "id": "4002bf4c",
   "metadata": {},
   "outputs": [],
   "source": [
    "load_dotenv()"
   ]
  },
  {
   "cell_type": "markdown",
   "id": "b04a0de2",
   "metadata": {},
   "source": [
    "## Define API tools"
   ]
  },
  {
   "cell_type": "markdown",
   "id": "f2e58ef2",
   "metadata": {},
   "source": [
    "Feel free to use any open service available through APIs.\n",
    "\n",
    "Here are a few examples. You can follow the instructions given.\n",
    "- https://jsonplaceholder.typicode.com/guide/\n",
    "- https://www.exchangerate-api.com/\n",
    "- https://openweathermap.org/\n",
    "\n",
    "Or you can find one you're interested in here.\n",
    "- https://github.com/public-apis/public-apis"
   ]
  },
  {
   "cell_type": "code",
   "execution_count": null,
   "id": "10a41cb2",
   "metadata": {},
   "outputs": [],
   "source": [
    "# TODO: Define as many tools that access external APIs as you want\n",
    "# Example:\n",
    "@tool\n",
    "def get_random_pokemon() -> dict:\n",
    "    \"\"\"Get a random Pokemon from the original 151\"\"\"\n",
    "    URL = \"https://pokeapi.co/api/v2/pokemon?limit=151\"\n",
    "    response = requests.get(URL)\n",
    "    response.raise_for_status()\n",
    "    return random.choice(response.json()['results'])"
   ]
  },
  {
   "cell_type": "code",
   "execution_count": null,
   "id": "9f67b873",
   "metadata": {},
   "outputs": [],
   "source": [
    "# TODO: Add all the tools you have defined\n",
    "tools = [get_random_pokemon]"
   ]
  },
  {
   "cell_type": "code",
   "execution_count": null,
   "id": "c7ff665d",
   "metadata": {},
   "outputs": [],
   "source": [
    "# TODO: Add instructions to your agent\n",
    "\n",
    "agent = Agent(\n",
    "    model_name=\"gpt-4o-mini\",\n",
    "    instructions=(\n",
    "        \"You are an assistant that can help with:\\n\"\n",
    "    ),\n",
    "    tools=tools\n",
    ")"
   ]
  },
  {
   "cell_type": "code",
   "execution_count": null,
   "id": "c74d8aef",
   "metadata": {},
   "outputs": [],
   "source": [
    "def print_messages(messages: List[BaseMessage]):\n",
    "    for m in messages:\n",
    "        print(f\" -> (role = {m.role}, content = {m.content}, tool_calls = {getattr(m, 'tool_calls', None)})\")"
   ]
  },
  {
   "cell_type": "markdown",
   "id": "bf6168f5",
   "metadata": {},
   "source": [
    "## Run your Agent"
   ]
  },
  {
   "cell_type": "code",
   "execution_count": null,
   "id": "a65caceb",
   "metadata": {},
   "outputs": [],
   "source": [
    "# TODO: Change the query and then run your agent\n",
    "query = \"DEFINE YOUR INPUT HERE\"\n",
    "session_id = \"external_tools\""
   ]
  },
  {
   "cell_type": "code",
   "execution_count": null,
   "id": "89c9238c",
   "metadata": {},
   "outputs": [],
   "source": [
    "run1 = agent.invoke(\n",
    "    query=query, \n",
    "    session_id=session_id,\n",
    ")\n",
    "\n",
    "print(\"\\nMessages from run 1:\")\n",
    "messages = run1.get_final_state()[\"messages\"]\n",
    "print_messages(messages)"
   ]
  },
  {
   "cell_type": "markdown",
   "id": "f160949c",
   "metadata": {},
   "source": [
    "## Check session histories"
   ]
  },
  {
   "cell_type": "code",
   "execution_count": null,
   "id": "f6fdabe5",
   "metadata": {},
   "outputs": [],
   "source": [
    "runs = agent.get_session_runs(session_id)\n",
    "for i, run_object in enumerate(runs, 1):\n",
    "    print(f\"\\n# Run {i}\", run_object.metadata)\n",
    "    print(\"Messages:\")\n",
    "    print_messages(run_object.get_final_state()[\"messages\"])"
   ]
  },
  {
   "cell_type": "code",
   "execution_count": null,
   "id": "98dafe45",
   "metadata": {},
   "outputs": [],
   "source": [
    "runs = agent.get_session_runs(session_id)\n",
    "for run_object in runs:\n",
    "    print(run_object)\n",
    "    for snp in run_object.snapshots:\n",
    "        print(f\"-> {snp}\")\n",
    "    print(\"\\n\")"
   ]
  },
  {
   "cell_type": "code",
   "execution_count": null,
   "id": "59054976",
   "metadata": {},
   "outputs": [],
   "source": []
  }
 ],
 "metadata": {
  "kernelspec": {
   "display_name": ".venv",
   "language": "python",
   "name": "python3"
  },
  "language_info": {
   "codemirror_mode": {
    "name": "ipython",
    "version": 3
   },
   "file_extension": ".py",
   "mimetype": "text/x-python",
   "name": "python",
   "nbconvert_exporter": "python",
   "pygments_lexer": "ipython3",
   "version": "3.11.10"
  }
 },
 "nbformat": 4,
 "nbformat_minor": 5
}
