{
 "cells": [
  {
   "cell_type": "markdown",
   "id": "264e6c14",
   "metadata": {},
   "source": [
    "# Module 07: Interacting with Databases\n",
    "This notebook demonstrates how to query SQL db."
   ]
  },
  {
   "cell_type": "markdown",
   "id": "b6e5ca62",
   "metadata": {},
   "source": [
    "## What we'll learn:\n",
    "- SQLAlchemy Engine\n",
    "- Listing Tables\n",
    "- Getting Table Schema\n",
    "- Executing SQL\n",
    "- Text2SQL Agent"
   ]
  },
  {
   "cell_type": "markdown",
   "id": "dcecd715",
   "metadata": {},
   "source": [
    "### Setup"
   ]
  },
  {
   "cell_type": "code",
   "execution_count": 1,
   "id": "2aafeb1d",
   "metadata": {},
   "outputs": [],
   "source": [
    "from typing import List, Any\n",
    "import sqlalchemy\n",
    "from sqlalchemy.engine.base import Engine\n",
    "from sqlalchemy import text, create_engine\n",
    "from dotenv import load_dotenv\n",
    "import pandas as pd\n",
    "\n",
    "from lib.messages import BaseMessage\n",
    "from lib.tooling import tool\n",
    "from lib.agents import Agent"
   ]
  },
  {
   "cell_type": "code",
   "execution_count": 2,
   "id": "a0cccb7e",
   "metadata": {},
   "outputs": [
    {
     "data": {
      "text/plain": [
       "True"
      ]
     },
     "execution_count": 2,
     "metadata": {},
     "output_type": "execute_result"
    }
   ],
   "source": [
    "load_dotenv()"
   ]
  },
  {
   "cell_type": "code",
   "execution_count": 3,
   "id": "ce9b839e",
   "metadata": {},
   "outputs": [],
   "source": [
    "DB_ENGINE = create_engine(f\"sqlite:///sales.db\")"
   ]
  },
  {
   "cell_type": "markdown",
   "id": "bdeee6bb",
   "metadata": {},
   "source": [
    "## SQL Toolkit"
   ]
  },
  {
   "cell_type": "code",
   "execution_count": 4,
   "id": "33307bc1",
   "metadata": {},
   "outputs": [],
   "source": [
    "@tool\n",
    "def list_tables_tool() -> List[str]:\n",
    "    \"\"\"\n",
    "    List all tables in database\n",
    "    \"\"\"\n",
    "    inspector = sqlalchemy.inspect(DB_ENGINE)\n",
    "\n",
    "    return inspector.get_table_names()"
   ]
  },
  {
   "cell_type": "code",
   "execution_count": 5,
   "id": "b5e4d752",
   "metadata": {},
   "outputs": [],
   "source": [
    "@tool\n",
    "def get_table_schema_tool(table_name:str) -> List[str]:\n",
    "    \"\"\"\n",
    "    Get schema information about a table. Returns a list of dictionaries.\n",
    "    - name is the column name\n",
    "    - type is the column type\n",
    "    - nullable is whether the column is nullable or not\n",
    "    - default is the default value of the column\n",
    "    - primary_key is whether the column is a primary key or not\n",
    "\n",
    "    Args:\n",
    "        table_name (str): Table name\n",
    "    \"\"\"\n",
    "    inspector = sqlalchemy.inspect(DB_ENGINE)\n",
    "\n",
    "    return str(inspector.get_columns(table_name))\n"
   ]
  },
  {
   "cell_type": "code",
   "execution_count": 6,
   "id": "fd123310",
   "metadata": {},
   "outputs": [],
   "source": [
    "@tool\n",
    "def execute_sql_tool(query:str) -> Any:\n",
    "    \"\"\"\n",
    "    Execute SQL query and return result. \n",
    "    This will automatically connect to the database and execute the query.\n",
    "    However, if the query is not valid, an error will be raised\n",
    "\n",
    "    Args:\n",
    "        query (str): SQL query\n",
    "    \"\"\"\n",
    "    with DB_ENGINE.begin() as connection:\n",
    "        answer = connection.execute(text(query)).fetchall()\n",
    "\n",
    "    return str(answer)"
   ]
  },
  {
   "cell_type": "code",
   "execution_count": 7,
   "id": "cbc60e5c",
   "metadata": {},
   "outputs": [
    {
     "data": {
      "text/plain": [
       "['sales']"
      ]
     },
     "execution_count": 7,
     "metadata": {},
     "output_type": "execute_result"
    }
   ],
   "source": [
    "tables = list_tables_tool()\n",
    "tables"
   ]
  },
  {
   "cell_type": "code",
   "execution_count": 8,
   "id": "a9fa2b40",
   "metadata": {},
   "outputs": [
    {
     "data": {
      "text/plain": [
       "{'sales': \"[{'name': 'id', 'type': INTEGER(), 'nullable': False, 'default': None, 'primary_key': 1}, {'name': 'transaction_date', 'type': DATE(), 'nullable': False, 'default': None, 'primary_key': 0}, {'name': 'model', 'type': VARCHAR(length=50), 'nullable': False, 'default': None, 'primary_key': 0}, {'name': 'price', 'type': FLOAT(), 'nullable': False, 'default': None, 'primary_key': 0}, {'name': 'quantity', 'type': INTEGER(), 'nullable': True, 'default': None, 'primary_key': 0}, {'name': 'customer_id', 'type': INTEGER(), 'nullable': True, 'default': None, 'primary_key': 0}]\"}"
      ]
     },
     "execution_count": 8,
     "metadata": {},
     "output_type": "execute_result"
    }
   ],
   "source": [
    "schemas = {\n",
    "    table: get_table_schema_tool(table_name=table) \n",
    "    for table in tables\n",
    "}\n",
    "schemas"
   ]
  },
  {
   "cell_type": "code",
   "execution_count": 9,
   "id": "10e0615e",
   "metadata": {},
   "outputs": [
    {
     "data": {
      "text/plain": [
       "\"[(1, '2024-05-22', 'Dell XPS 15', 1308.04, 4, 1037), (2, '2024-06-07', 'Dell Inspiron 15', 2399.23, 4, 1044), (3, '2024-12-07', 'Dell XPS 13', 2481.61, 2, 1013), (4, '2024-06-21', 'Dell G5 15', 505.98, 4, 1054), (5, '2024-01-04', 'Dell Inspiron 14', 1429.78, 1, 1097), (6, '2024-04-23', 'Dell Inspiron 14', 1141.06, 2, 1074), (7, '2024-06-18', 'Dell Latitude 7310', 1740.03, 2, 1094), (8, '2024-03-12', 'Dell XPS 15', 521.49, 3, 1019), (9, '2024-02-10', 'Dell Latitude 7410', 545.36, 4, 1003), (10, '2024-12-17', 'Dell Inspiron 14', 668.95, 3, 1010)]\""
      ]
     },
     "execution_count": 9,
     "metadata": {},
     "output_type": "execute_result"
    }
   ],
   "source": [
    "sql = f\"SELECT * FROM {tables[0]} LIMIT 10\"\n",
    "result = execute_sql_tool(query=sql)\n",
    "result"
   ]
  },
  {
   "cell_type": "code",
   "execution_count": 10,
   "id": "b85b6daf",
   "metadata": {},
   "outputs": [],
   "source": [
    "tools = [list_tables_tool, get_table_schema_tool, execute_sql_tool]"
   ]
  },
  {
   "cell_type": "code",
   "execution_count": 11,
   "id": "ccbd8900",
   "metadata": {},
   "outputs": [],
   "source": [
    "sql_agent = Agent(\n",
    "    model_name=\"gpt-4o-mini\",\n",
    "    instructions=(\n",
    "        \"You are a Sr. SQL developer tasked with generating SQL queries. Perform the following steps:\\n\"\n",
    "        \"First, find out the appropriate table name based on all tables. \"\n",
    "        \"Then get the table's schema to understand the columns. \"\n",
    "        \"With the table name and the schema, generate the ANSI SQL query you think is applicable to the user question. \"\n",
    "        \"Finally, use a tool to execute the above SQL query and output the result based on the user question.\"\n",
    "    ),\n",
    "    tools=tools,\n",
    ")"
   ]
  },
  {
   "cell_type": "code",
   "execution_count": 12,
   "id": "adfec92a",
   "metadata": {},
   "outputs": [],
   "source": [
    "def print_messages(messages: List[BaseMessage]):\n",
    "    for m in messages:\n",
    "        print(f\" -> (role = {m.role}, content = {m.content}, tool_calls = {getattr(m, 'tool_calls', None)})\")"
   ]
  },
  {
   "cell_type": "code",
   "execution_count": 13,
   "id": "dd2485ac",
   "metadata": {},
   "outputs": [
    {
     "name": "stdout",
     "output_type": "stream",
     "text": [
      "[StateMachine] Starting: __entry__\n",
      "[StateMachine] Executing step: message_prep\n",
      "[StateMachine] Executing step: llm_processor\n",
      "[StateMachine] Executing step: tool_executor\n",
      "[StateMachine] Executing step: llm_processor\n",
      "[StateMachine] Executing step: tool_executor\n",
      "[StateMachine] Executing step: llm_processor\n",
      "[StateMachine] Executing step: tool_executor\n",
      "[StateMachine] Executing step: llm_processor\n",
      "[StateMachine] Terminating: __termination__\n",
      "\n",
      "Messages from run 1:\n",
      " -> (role = system, content = You are a Sr. SQL developer tasked with generating SQL queries. Perform the following steps:\n",
      "First, find out the appropriate table name based on all tables. Then get the table's schema to understand the columns. With the table name and the schema, generate the ANSI SQL query you think is applicable to the user question. Finally, use a tool to execute the above SQL query and output the result based on the user question., tool_calls = None)\n",
      " -> (role = user, content = How many Dell XPS 15 were sold?, tool_calls = None)\n",
      " -> (role = assistant, content = None, tool_calls = [ChatCompletionMessageToolCall(id='call_AYgsXgNYk3K24cmSqSb2D6Va', function=Function(arguments='{}', name='list_tables_tool'), type='function')])\n",
      " -> (role = tool, content = \"['sales']\", tool_calls = None)\n",
      " -> (role = assistant, content = None, tool_calls = [ChatCompletionMessageToolCall(id='call_6l4LOar35erNEo8yNQzbFq9x', function=Function(arguments='{\"table_name\":\"sales\"}', name='get_table_schema_tool'), type='function')])\n",
      " -> (role = tool, content = \"[{'name': 'id', 'type': INTEGER(), 'nullable': False, 'default': None, 'primary_key': 1}, {'name': 'transaction_date', 'type': DATE(), 'nullable': False, 'default': None, 'primary_key': 0}, {'name': 'model', 'type': VARCHAR(length=50), 'nullable': False, 'default': None, 'primary_key': 0}, {'name': 'price', 'type': FLOAT(), 'nullable': False, 'default': None, 'primary_key': 0}, {'name': 'quantity', 'type': INTEGER(), 'nullable': True, 'default': None, 'primary_key': 0}, {'name': 'customer_id', 'type': INTEGER(), 'nullable': True, 'default': None, 'primary_key': 0}]\", tool_calls = None)\n",
      " -> (role = assistant, content = None, tool_calls = [ChatCompletionMessageToolCall(id='call_5GI9q7b7utbT7UwRTPA39vyS', function=Function(arguments='{\"query\":\"SELECT SUM(quantity) AS total_sold FROM sales WHERE model = \\'Dell XPS 15\\';\"}', name='execute_sql_tool'), type='function')])\n",
      " -> (role = tool, content = \"[(57,)]\", tool_calls = None)\n",
      " -> (role = assistant, content = A total of 57 Dell XPS 15 units were sold., tool_calls = None)\n"
     ]
    }
   ],
   "source": [
    "run1 = sql_agent.invoke(\n",
    "    query=\"How many Dell XPS 15 were sold?\", \n",
    ")\n",
    "\n",
    "print(\"\\nMessages from run 1:\")\n",
    "messages = run1.get_final_state()[\"messages\"]\n",
    "print_messages(messages)"
   ]
  },
  {
   "cell_type": "code",
   "execution_count": null,
   "id": "702437d5",
   "metadata": {},
   "outputs": [],
   "source": []
  }
 ],
 "metadata": {
  "kernelspec": {
   "display_name": ".venv",
   "language": "python",
   "name": "python3"
  },
  "language_info": {
   "codemirror_mode": {
    "name": "ipython",
    "version": 3
   },
   "file_extension": ".py",
   "mimetype": "text/x-python",
   "name": "python",
   "nbconvert_exporter": "python",
   "pygments_lexer": "ipython3",
   "version": "3.11.10"
  }
 },
 "nbformat": 4,
 "nbformat_minor": 5
}
