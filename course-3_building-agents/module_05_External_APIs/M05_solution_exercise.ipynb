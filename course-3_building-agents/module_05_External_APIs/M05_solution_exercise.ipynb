{
 "cells": [
  {
   "cell_type": "markdown",
   "id": "e3778898",
   "metadata": {},
   "source": [
    "# [SOLUTION] Exercise - Create an Agent with external API call enabled\n",
    "\n",
    "In this exercise, you'll build an agent that can interact with external APIs to gather real-time data\n",
    "and provide responses based on that information. You'll combine concepts from state management and\n",
    "memory while adding the ability to make external API calls safely and effectively.\n"
   ]
  },
  {
   "cell_type": "markdown",
   "id": "12e57bd8",
   "metadata": {},
   "source": [
    "## Challenge\n",
    "\n",
    "Your task is to create an agent that can make External API Calls:\n",
    "\n",
    "- Implement tools that interact with real APIs\n",
    "- Handle API responses and errors gracefully\n",
    "- Use environment variables for API keys\n",
    "- Process and format API data for user consumption"
   ]
  },
  {
   "cell_type": "markdown",
   "id": "9fa44fc7",
   "metadata": {},
   "source": [
    "## Setup\n",
    "First, let's import the necessary libraries:"
   ]
  },
  {
   "cell_type": "code",
   "execution_count": 1,
   "id": "08286c75",
   "metadata": {},
   "outputs": [],
   "source": [
    "import os\n",
    "import random\n",
    "from typing import List\n",
    "import requests\n",
    "from dotenv import load_dotenv\n",
    "\n",
    "from lib.agents import Agent\n",
    "from lib.messages import BaseMessage\n",
    "from lib.tooling import tool"
   ]
  },
  {
   "cell_type": "code",
   "execution_count": 2,
   "id": "4002bf4c",
   "metadata": {},
   "outputs": [
    {
     "data": {
      "text/plain": [
       "True"
      ]
     },
     "execution_count": 2,
     "metadata": {},
     "output_type": "execute_result"
    }
   ],
   "source": [
    "load_dotenv()"
   ]
  },
  {
   "cell_type": "markdown",
   "id": "b04a0de2",
   "metadata": {},
   "source": [
    "## Define API tools"
   ]
  },
  {
   "cell_type": "markdown",
   "id": "f2e58ef2",
   "metadata": {},
   "source": [
    "Feel free to use any open service available through APIs.\n",
    "\n",
    "Here are a few examples. You can follow the instructions given.\n",
    "- https://jsonplaceholder.typicode.com/guide/\n",
    "- https://www.exchangerate-api.com/\n",
    "- https://openweathermap.org/\n",
    "\n",
    "Or you can find one you're interested in here.\n",
    "- https://github.com/public-apis/public-apis"
   ]
  },
  {
   "cell_type": "code",
   "execution_count": 3,
   "id": "10a41cb2",
   "metadata": {},
   "outputs": [],
   "source": [
    "@tool\n",
    "def get_weather(city: str) -> dict:\n",
    "    \"\"\"\n",
    "    Get current weather for a city using OpenWeather API\n",
    "    args:\n",
    "        city (str): Name of the city to get weather for\n",
    "    \"\"\"\n",
    "    API_KEY = os.getenv(\"OPENWEATHER_API_KEY\")\n",
    "    BASE_URL = \"https://api.openweathermap.org/data/2.5/weather\"\n",
    "    \n",
    "    params = {\n",
    "        \"q\": city,\n",
    "        \"appid\": API_KEY,\n",
    "        \"units\": \"metric\"\n",
    "    }\n",
    "    \n",
    "    response = requests.get(BASE_URL, params=params)\n",
    "    response.raise_for_status()\n",
    "    return response.json()"
   ]
  },
  {
   "cell_type": "code",
   "execution_count": 4,
   "id": "a314d4b7",
   "metadata": {},
   "outputs": [],
   "source": [
    "@tool\n",
    "def get_exchange_rate(from_currency: str = \"USD\") -> dict:\n",
    "    \"\"\"\n",
    "    Get latest exchange rates from a base currency\n",
    "    args:\n",
    "        from_currency (str): Base currency code (default: USD)\n",
    "    \"\"\"\n",
    "    API_KEY = os.getenv(\"EXCHANGERATE_API_KEY\")\n",
    "    BASE_URL = \"https://v6.exchangerate-api.com/v6\"\n",
    "    \n",
    "    url = f\"{BASE_URL}/{API_KEY}/latest/{from_currency}\"\n",
    "    response = requests.get(url)\n",
    "    response.raise_for_status()\n",
    "    return response.json()"
   ]
  },
  {
   "cell_type": "code",
   "execution_count": 5,
   "id": "15d78c55",
   "metadata": {},
   "outputs": [],
   "source": [
    "@tool\n",
    "def get_random_pokemon() -> dict:\n",
    "    \"\"\"Get a random Pokemon from the original 151\"\"\"\n",
    "    URL = \"https://pokeapi.co/api/v2/pokemon?limit=151\"\n",
    "    response = requests.get(URL)\n",
    "    response.raise_for_status()\n",
    "    return random.choice(response.json()['results'])"
   ]
  },
  {
   "cell_type": "code",
   "execution_count": 6,
   "id": "9f67b873",
   "metadata": {},
   "outputs": [],
   "source": [
    "tools = [get_weather, get_exchange_rate, get_random_pokemon]"
   ]
  },
  {
   "cell_type": "code",
   "execution_count": 7,
   "id": "c7ff665d",
   "metadata": {},
   "outputs": [],
   "source": [
    "agent = Agent(\n",
    "    model_name=\"gpt-4o-mini\",\n",
    "    instructions=(\n",
    "        \"You are an assistant that can help with:\\n\"\n",
    "        \"1. Getting weather information for cities\\n\"\n",
    "        \"2. Checking currency exchange rates\\n\"\n",
    "        \"3. Getting a random Pokemon\\n\"\n",
    "        \"Use the available tools to help answer questions about these topics.\\n\"\n",
    "        \"Maintain context across conversations within the same session.\"\n",
    "    ),\n",
    "    tools=tools\n",
    ")"
   ]
  },
  {
   "cell_type": "code",
   "execution_count": 8,
   "id": "c74d8aef",
   "metadata": {},
   "outputs": [],
   "source": [
    "def print_messages(messages: List[BaseMessage]):\n",
    "    for m in messages:\n",
    "        print(f\" -> (role = {m.role}, content = {m.content}, tool_calls = {getattr(m, 'tool_calls', None)})\")"
   ]
  },
  {
   "cell_type": "markdown",
   "id": "bf6168f5",
   "metadata": {},
   "source": [
    "## Run your Agent"
   ]
  },
  {
   "cell_type": "code",
   "execution_count": 9,
   "id": "a65caceb",
   "metadata": {},
   "outputs": [],
   "source": [
    "session_id = \"external_tools\""
   ]
  },
  {
   "cell_type": "code",
   "execution_count": 10,
   "id": "89c9238c",
   "metadata": {},
   "outputs": [
    {
     "name": "stdout",
     "output_type": "stream",
     "text": [
      "[StateMachine] Starting: __entry__\n",
      "[StateMachine] Executing step: message_prep\n",
      "[StateMachine] Executing step: llm_processor\n",
      "[StateMachine] Executing step: tool_executor\n",
      "[StateMachine] Executing step: llm_processor\n",
      "[StateMachine] Terminating: __termination__\n",
      "\n",
      "Messages from run 1:\n",
      " -> (role = system, content = You are an assistant that can help with:\n",
      "1. Getting weather information for cities\n",
      "2. Checking currency exchange rates\n",
      "3. Getting a random Pokemon\n",
      "Use the available tools to help answer questions about these topics.\n",
      "Maintain context across conversations within the same session., tool_calls = None)\n",
      " -> (role = user, content = What's the weather like in London?, tool_calls = None)\n",
      " -> (role = assistant, content = None, tool_calls = [ChatCompletionMessageToolCall(id='call_0Nj195qnSdtyy16iWfsJw7QE', function=Function(arguments='{\"city\":\"London\"}', name='get_weather'), type='function')])\n",
      " -> (role = tool, content = \"{'coord': {'lon': -0.1257, 'lat': 51.5085}, 'weather': [{'id': 800, 'main': 'Clear', 'description': 'clear sky', 'icon': '01d'}], 'base': 'stations', 'main': {'temp': 23.23, 'feels_like': 22.52, 'temp_min': 21.86, 'temp_max': 24.19, 'pressure': 1028, 'humidity': 35, 'sea_level': 1028, 'grnd_level': 1024}, 'visibility': 10000, 'wind': {'speed': 1.79, 'deg': 201, 'gust': 1.79}, 'clouds': {'all': 1}, 'dt': 1751543895, 'sys': {'type': 2, 'id': 268730, 'country': 'GB', 'sunrise': 1751514540, 'sunset': 1751574010}, 'timezone': 3600, 'id': 2643743, 'name': 'London', 'cod': 200}\", tool_calls = None)\n",
      " -> (role = assistant, content = The current weather in London is clear with a temperature of 23.2°C. It feels like 22.5°C. The humidity is at 35%, and there is a light wind blowing at a speed of 1.8 m/s. Visibility is good at 10 kilometers. Overall, it's a pleasant day in London!, tool_calls = None)\n"
     ]
    }
   ],
   "source": [
    "run1 = agent.invoke(\n",
    "    query=\"What's the weather like in London?\", \n",
    "    session_id=session_id,\n",
    ")\n",
    "\n",
    "print(\"\\nMessages from run 1:\")\n",
    "messages = run1.get_final_state()[\"messages\"]\n",
    "print_messages(messages)"
   ]
  },
  {
   "cell_type": "code",
   "execution_count": 11,
   "id": "65e6b006",
   "metadata": {},
   "outputs": [
    {
     "name": "stdout",
     "output_type": "stream",
     "text": [
      "[StateMachine] Starting: __entry__\n",
      "[StateMachine] Executing step: message_prep\n",
      "[StateMachine] Executing step: llm_processor\n",
      "[StateMachine] Executing step: tool_executor\n",
      "[StateMachine] Executing step: llm_processor\n",
      "[StateMachine] Terminating: __termination__\n",
      "\n",
      "Messages from run 2:\n",
      " -> (role = system, content = You are an assistant that can help with:\n",
      "1. Getting weather information for cities\n",
      "2. Checking currency exchange rates\n",
      "3. Getting a random Pokemon\n",
      "Use the available tools to help answer questions about these topics.\n",
      "Maintain context across conversations within the same session., tool_calls = None)\n",
      " -> (role = user, content = What's the weather like in London?, tool_calls = None)\n",
      " -> (role = assistant, content = None, tool_calls = [ChatCompletionMessageToolCall(id='call_0Nj195qnSdtyy16iWfsJw7QE', function=Function(arguments='{\"city\":\"London\"}', name='get_weather'), type='function')])\n",
      " -> (role = tool, content = \"{'coord': {'lon': -0.1257, 'lat': 51.5085}, 'weather': [{'id': 800, 'main': 'Clear', 'description': 'clear sky', 'icon': '01d'}], 'base': 'stations', 'main': {'temp': 23.23, 'feels_like': 22.52, 'temp_min': 21.86, 'temp_max': 24.19, 'pressure': 1028, 'humidity': 35, 'sea_level': 1028, 'grnd_level': 1024}, 'visibility': 10000, 'wind': {'speed': 1.79, 'deg': 201, 'gust': 1.79}, 'clouds': {'all': 1}, 'dt': 1751543895, 'sys': {'type': 2, 'id': 268730, 'country': 'GB', 'sunrise': 1751514540, 'sunset': 1751574010}, 'timezone': 3600, 'id': 2643743, 'name': 'London', 'cod': 200}\", tool_calls = None)\n",
      " -> (role = assistant, content = The current weather in London is clear with a temperature of 23.2°C. It feels like 22.5°C. The humidity is at 35%, and there is a light wind blowing at a speed of 1.8 m/s. Visibility is good at 10 kilometers. Overall, it's a pleasant day in London!, tool_calls = None)\n",
      " -> (role = user, content = What's the exchange rate from USD to EUR?, tool_calls = None)\n",
      " -> (role = assistant, content = None, tool_calls = [ChatCompletionMessageToolCall(id='call_XLC1rOjoWjxanKmIncHHAppJ', function=Function(arguments='{\"from_currency\":\"USD\"}', name='get_exchange_rate'), type='function')])\n",
      " -> (role = tool, content = \"{'result': 'success', 'documentation': 'https://www.exchangerate-api.com/docs', 'terms_of_use': 'https://www.exchangerate-api.com/terms', 'time_last_update_unix': 1751500801, 'time_last_update_utc': 'Thu, 03 Jul 2025 00:00:01 +0000', 'time_next_update_unix': 1751587201, 'time_next_update_utc': 'Fri, 04 Jul 2025 00:00:01 +0000', 'base_code': 'USD', 'conversion_rates': {'USD': 1, 'AED': 3.6725, 'AFN': 70.1226, 'ALL': 83.1589, 'AMD': 384.3955, 'ANG': 1.79, 'AOA': 920.8675, 'ARS': 1231.33, 'AUD': 1.5206, 'AWG': 1.79, 'AZN': 1.7, 'BAM': 1.659, 'BBD': 2.0, 'BDT': 122.3572, 'BGN': 1.6595, 'BHD': 0.376, 'BIF': 2980.0952, 'BMD': 1.0, 'BND': 1.2732, 'BOB': 6.9185, 'BRL': 5.4661, 'BSD': 1.0, 'BTN': 85.6716, 'BWP': 13.288, 'BYN': 3.1737, 'BZD': 2.0, 'CAD': 1.3613, 'CDF': 2890.7969, 'CHF': 0.7922, 'CLP': 928.869, 'CNY': 7.163, 'COP': 4026.3146, 'CRC': 505.1162, 'CUP': 24.0, 'CVE': 93.5311, 'CZK': 20.9274, 'DJF': 177.721, 'DKK': 6.3263, 'DOP': 59.4307, 'DZD': 129.4077, 'EGP': 49.3503, 'ERN': 15.0, 'ETB': 136.8003, 'EUR': 0.8482, 'FJD': 2.2377, 'FKP': 0.7325, 'FOK': 6.3267, 'GBP': 0.7325, 'GEL': 2.7185, 'GGP': 0.7325, 'GHS': 10.5924, 'GIP': 0.7325, 'GMD': 72.7206, 'GNF': 8678.8601, 'GTQ': 7.6872, 'GYD': 209.075, 'HKD': 7.85, 'HNL': 26.1385, 'HRK': 6.3911, 'HTG': 131.1062, 'HUF': 339.0857, 'IDR': 16223.4715, 'ILS': 3.3753, 'IMP': 0.7325, 'INR': 85.6718, 'IQD': 1308.3586, 'IRR': 42249.8402, 'ISK': 121.3513, 'JEP': 0.7325, 'JMD': 159.8143, 'JOD': 0.709, 'JPY': 143.6699, 'KES': 129.2244, 'KGS': 87.2939, 'KHR': 4011.0187, 'KID': 1.5205, 'KMF': 417.3064, 'KRW': 1356.9612, 'KWD': 0.3052, 'KYD': 0.8333, 'KZT': 518.7593, 'LAK': 21621.7367, 'LBP': 89500.0, 'LKR': 299.755, 'LRD': 200.4703, 'LSL': 17.5854, 'LYD': 5.3818, 'MAD': 8.9751, 'MDL': 16.7896, 'MGA': 4399.7313, 'MKD': 52.1587, 'MMK': 2099.7875, 'MNT': 3573.2063, 'MOP': 8.0857, 'MRU': 39.8629, 'MUR': 44.8491, 'MVR': 15.4495, 'MWK': 1738.1223, 'MXN': 18.7709, 'MYR': 4.2265, 'MZN': 63.6845, 'NAD': 17.5854, 'NGN': 1530.3799, 'NIO': 36.7865, 'NOK': 10.0799, 'NPR': 137.0745, 'NZD': 1.6437, 'OMR': 0.3845, 'PAB': 1.0, 'PEN': 3.5573, 'PGK': 4.1155, 'PHP': 56.3659, 'PKR': 283.9313, 'PLN': 3.612, 'PYG': 7974.4088, 'QAR': 3.64, 'RON': 4.3053, 'RSD': 99.3959, 'RUB': 78.7217, 'RWF': 1442.4577, 'SAR': 3.75, 'SBD': 8.5056, 'SCR': 14.5478, 'SDG': 543.8155, 'SEK': 9.5195, 'SGD': 1.2732, 'SHP': 0.7325, 'SLE': 22.4264, 'SLL': 22426.3818, 'SOS': 571.287, 'SRD': 37.543, 'SSP': 4613.7786, 'STN': 20.7819, 'SYP': 13049.1182, 'SZL': 17.5854, 'THB': 32.4088, 'TJS': 9.8413, 'TMT': 3.4982, 'TND': 2.8862, 'TOP': 2.3609, 'TRY': 39.8898, 'TTD': 6.7772, 'TVD': 1.5205, 'TWD': 28.9066, 'TZS': 2632.7383, 'UAH': 41.8502, 'UGX': 3584.7009, 'UYU': 39.7101, 'UZS': 12630.5321, 'VES': 109.7724, 'VND': 26055.8844, 'VUV': 118.8854, 'WST': 2.6826, 'XAF': 556.4085, 'XCD': 2.7, 'XCG': 1.79, 'XDR': 0.7265, 'XOF': 556.4085, 'XPF': 101.2221, 'YER': 242.1455, 'ZAR': 17.5855, 'ZMW': 23.9946, 'ZWL': 26.9529}}\", tool_calls = None)\n",
      " -> (role = assistant, content = The current exchange rate from USD to EUR is approximately 0.8482. This means that 1 US Dollar is equivalent to about 0.8482 Euros., tool_calls = None)\n"
     ]
    }
   ],
   "source": [
    "run2 = agent.invoke(\n",
    "    query=\"What's the exchange rate from USD to EUR?\", \n",
    "    session_id=session_id,\n",
    ")\n",
    "print(\"\\nMessages from run 2:\")\n",
    "messages = run2.get_final_state()[\"messages\"]\n",
    "print_messages(messages)"
   ]
  },
  {
   "cell_type": "code",
   "execution_count": 12,
   "id": "66335d57",
   "metadata": {},
   "outputs": [
    {
     "name": "stdout",
     "output_type": "stream",
     "text": [
      "[StateMachine] Starting: __entry__\n",
      "[StateMachine] Executing step: message_prep\n",
      "[StateMachine] Executing step: llm_processor\n",
      "[StateMachine] Executing step: tool_executor\n",
      "[StateMachine] Executing step: llm_processor\n",
      "[StateMachine] Terminating: __termination__\n",
      "\n",
      "Messages from run 3:\n",
      " -> (role = system, content = You are an assistant that can help with:\n",
      "1. Getting weather information for cities\n",
      "2. Checking currency exchange rates\n",
      "3. Getting a random Pokemon\n",
      "Use the available tools to help answer questions about these topics.\n",
      "Maintain context across conversations within the same session., tool_calls = None)\n",
      " -> (role = user, content = What's the weather like in London?, tool_calls = None)\n",
      " -> (role = assistant, content = None, tool_calls = [ChatCompletionMessageToolCall(id='call_0Nj195qnSdtyy16iWfsJw7QE', function=Function(arguments='{\"city\":\"London\"}', name='get_weather'), type='function')])\n",
      " -> (role = tool, content = \"{'coord': {'lon': -0.1257, 'lat': 51.5085}, 'weather': [{'id': 800, 'main': 'Clear', 'description': 'clear sky', 'icon': '01d'}], 'base': 'stations', 'main': {'temp': 23.23, 'feels_like': 22.52, 'temp_min': 21.86, 'temp_max': 24.19, 'pressure': 1028, 'humidity': 35, 'sea_level': 1028, 'grnd_level': 1024}, 'visibility': 10000, 'wind': {'speed': 1.79, 'deg': 201, 'gust': 1.79}, 'clouds': {'all': 1}, 'dt': 1751543895, 'sys': {'type': 2, 'id': 268730, 'country': 'GB', 'sunrise': 1751514540, 'sunset': 1751574010}, 'timezone': 3600, 'id': 2643743, 'name': 'London', 'cod': 200}\", tool_calls = None)\n",
      " -> (role = assistant, content = The current weather in London is clear with a temperature of 23.2°C. It feels like 22.5°C. The humidity is at 35%, and there is a light wind blowing at a speed of 1.8 m/s. Visibility is good at 10 kilometers. Overall, it's a pleasant day in London!, tool_calls = None)\n",
      " -> (role = user, content = What's the exchange rate from USD to EUR?, tool_calls = None)\n",
      " -> (role = assistant, content = None, tool_calls = [ChatCompletionMessageToolCall(id='call_XLC1rOjoWjxanKmIncHHAppJ', function=Function(arguments='{\"from_currency\":\"USD\"}', name='get_exchange_rate'), type='function')])\n",
      " -> (role = tool, content = \"{'result': 'success', 'documentation': 'https://www.exchangerate-api.com/docs', 'terms_of_use': 'https://www.exchangerate-api.com/terms', 'time_last_update_unix': 1751500801, 'time_last_update_utc': 'Thu, 03 Jul 2025 00:00:01 +0000', 'time_next_update_unix': 1751587201, 'time_next_update_utc': 'Fri, 04 Jul 2025 00:00:01 +0000', 'base_code': 'USD', 'conversion_rates': {'USD': 1, 'AED': 3.6725, 'AFN': 70.1226, 'ALL': 83.1589, 'AMD': 384.3955, 'ANG': 1.79, 'AOA': 920.8675, 'ARS': 1231.33, 'AUD': 1.5206, 'AWG': 1.79, 'AZN': 1.7, 'BAM': 1.659, 'BBD': 2.0, 'BDT': 122.3572, 'BGN': 1.6595, 'BHD': 0.376, 'BIF': 2980.0952, 'BMD': 1.0, 'BND': 1.2732, 'BOB': 6.9185, 'BRL': 5.4661, 'BSD': 1.0, 'BTN': 85.6716, 'BWP': 13.288, 'BYN': 3.1737, 'BZD': 2.0, 'CAD': 1.3613, 'CDF': 2890.7969, 'CHF': 0.7922, 'CLP': 928.869, 'CNY': 7.163, 'COP': 4026.3146, 'CRC': 505.1162, 'CUP': 24.0, 'CVE': 93.5311, 'CZK': 20.9274, 'DJF': 177.721, 'DKK': 6.3263, 'DOP': 59.4307, 'DZD': 129.4077, 'EGP': 49.3503, 'ERN': 15.0, 'ETB': 136.8003, 'EUR': 0.8482, 'FJD': 2.2377, 'FKP': 0.7325, 'FOK': 6.3267, 'GBP': 0.7325, 'GEL': 2.7185, 'GGP': 0.7325, 'GHS': 10.5924, 'GIP': 0.7325, 'GMD': 72.7206, 'GNF': 8678.8601, 'GTQ': 7.6872, 'GYD': 209.075, 'HKD': 7.85, 'HNL': 26.1385, 'HRK': 6.3911, 'HTG': 131.1062, 'HUF': 339.0857, 'IDR': 16223.4715, 'ILS': 3.3753, 'IMP': 0.7325, 'INR': 85.6718, 'IQD': 1308.3586, 'IRR': 42249.8402, 'ISK': 121.3513, 'JEP': 0.7325, 'JMD': 159.8143, 'JOD': 0.709, 'JPY': 143.6699, 'KES': 129.2244, 'KGS': 87.2939, 'KHR': 4011.0187, 'KID': 1.5205, 'KMF': 417.3064, 'KRW': 1356.9612, 'KWD': 0.3052, 'KYD': 0.8333, 'KZT': 518.7593, 'LAK': 21621.7367, 'LBP': 89500.0, 'LKR': 299.755, 'LRD': 200.4703, 'LSL': 17.5854, 'LYD': 5.3818, 'MAD': 8.9751, 'MDL': 16.7896, 'MGA': 4399.7313, 'MKD': 52.1587, 'MMK': 2099.7875, 'MNT': 3573.2063, 'MOP': 8.0857, 'MRU': 39.8629, 'MUR': 44.8491, 'MVR': 15.4495, 'MWK': 1738.1223, 'MXN': 18.7709, 'MYR': 4.2265, 'MZN': 63.6845, 'NAD': 17.5854, 'NGN': 1530.3799, 'NIO': 36.7865, 'NOK': 10.0799, 'NPR': 137.0745, 'NZD': 1.6437, 'OMR': 0.3845, 'PAB': 1.0, 'PEN': 3.5573, 'PGK': 4.1155, 'PHP': 56.3659, 'PKR': 283.9313, 'PLN': 3.612, 'PYG': 7974.4088, 'QAR': 3.64, 'RON': 4.3053, 'RSD': 99.3959, 'RUB': 78.7217, 'RWF': 1442.4577, 'SAR': 3.75, 'SBD': 8.5056, 'SCR': 14.5478, 'SDG': 543.8155, 'SEK': 9.5195, 'SGD': 1.2732, 'SHP': 0.7325, 'SLE': 22.4264, 'SLL': 22426.3818, 'SOS': 571.287, 'SRD': 37.543, 'SSP': 4613.7786, 'STN': 20.7819, 'SYP': 13049.1182, 'SZL': 17.5854, 'THB': 32.4088, 'TJS': 9.8413, 'TMT': 3.4982, 'TND': 2.8862, 'TOP': 2.3609, 'TRY': 39.8898, 'TTD': 6.7772, 'TVD': 1.5205, 'TWD': 28.9066, 'TZS': 2632.7383, 'UAH': 41.8502, 'UGX': 3584.7009, 'UYU': 39.7101, 'UZS': 12630.5321, 'VES': 109.7724, 'VND': 26055.8844, 'VUV': 118.8854, 'WST': 2.6826, 'XAF': 556.4085, 'XCD': 2.7, 'XCG': 1.79, 'XDR': 0.7265, 'XOF': 556.4085, 'XPF': 101.2221, 'YER': 242.1455, 'ZAR': 17.5855, 'ZMW': 23.9946, 'ZWL': 26.9529}}\", tool_calls = None)\n",
      " -> (role = assistant, content = The current exchange rate from USD to EUR is approximately 0.8482. This means that 1 US Dollar is equivalent to about 0.8482 Euros., tool_calls = None)\n",
      " -> (role = user, content = Pick one random Pokemon!, tool_calls = None)\n",
      " -> (role = assistant, content = None, tool_calls = [ChatCompletionMessageToolCall(id='call_TMnwdQh2OiuIiY6ma1R6NXW5', function=Function(arguments='{}', name='get_random_pokemon'), type='function')])\n",
      " -> (role = tool, content = \"{'name': 'staryu', 'url': 'https://pokeapi.co/api/v2/pokemon/120/'}\", tool_calls = None)\n",
      " -> (role = assistant, content = You got a random Pokémon: **Staryu**! \n",
      "\n",
      "You can learn more about it [here](https://pokeapi.co/api/v2/pokemon/120/)., tool_calls = None)\n"
     ]
    }
   ],
   "source": [
    "run3 = agent.invoke(\n",
    "    query=\"Pick one random Pokemon!\", \n",
    "    session_id=session_id,\n",
    ")\n",
    "print(\"\\nMessages from run 3:\")\n",
    "messages = run3.get_final_state()[\"messages\"]\n",
    "print_messages(messages)\n"
   ]
  },
  {
   "cell_type": "markdown",
   "id": "f160949c",
   "metadata": {},
   "source": [
    "## Check session histories"
   ]
  },
  {
   "cell_type": "code",
   "execution_count": 13,
   "id": "f6fdabe5",
   "metadata": {},
   "outputs": [
    {
     "name": "stdout",
     "output_type": "stream",
     "text": [
      "\n",
      "# Run 1 {'run_id': '0f742e3c-26df-48c1-a3ea-f1de16066a0b', 'start_timestamp': '2025-07-03 09:09:48.010245', 'end_timestamp': '2025-07-03 09:09:53.680763', 'snapshot_counts': 5}\n",
      "Messages:\n",
      " -> (role = system, content = You are an assistant that can help with:\n",
      "1. Getting weather information for cities\n",
      "2. Checking currency exchange rates\n",
      "3. Getting a random Pokemon\n",
      "Use the available tools to help answer questions about these topics.\n",
      "Maintain context across conversations within the same session., tool_calls = None)\n",
      " -> (role = user, content = What's the weather like in London?, tool_calls = None)\n",
      " -> (role = assistant, content = None, tool_calls = [ChatCompletionMessageToolCall(id='call_0Nj195qnSdtyy16iWfsJw7QE', function=Function(arguments='{\"city\":\"London\"}', name='get_weather'), type='function')])\n",
      " -> (role = tool, content = \"{'coord': {'lon': -0.1257, 'lat': 51.5085}, 'weather': [{'id': 800, 'main': 'Clear', 'description': 'clear sky', 'icon': '01d'}], 'base': 'stations', 'main': {'temp': 23.23, 'feels_like': 22.52, 'temp_min': 21.86, 'temp_max': 24.19, 'pressure': 1028, 'humidity': 35, 'sea_level': 1028, 'grnd_level': 1024}, 'visibility': 10000, 'wind': {'speed': 1.79, 'deg': 201, 'gust': 1.79}, 'clouds': {'all': 1}, 'dt': 1751543895, 'sys': {'type': 2, 'id': 268730, 'country': 'GB', 'sunrise': 1751514540, 'sunset': 1751574010}, 'timezone': 3600, 'id': 2643743, 'name': 'London', 'cod': 200}\", tool_calls = None)\n",
      " -> (role = assistant, content = The current weather in London is clear with a temperature of 23.2°C. It feels like 22.5°C. The humidity is at 35%, and there is a light wind blowing at a speed of 1.8 m/s. Visibility is good at 10 kilometers. Overall, it's a pleasant day in London!, tool_calls = None)\n",
      "\n",
      "# Run 2 {'run_id': 'fe9f99e8-d31c-4c3c-8baa-ef6d7fd66823', 'start_timestamp': '2025-07-03 09:09:53.686631', 'end_timestamp': '2025-07-03 09:09:57.082492', 'snapshot_counts': 5}\n",
      "Messages:\n",
      " -> (role = system, content = You are an assistant that can help with:\n",
      "1. Getting weather information for cities\n",
      "2. Checking currency exchange rates\n",
      "3. Getting a random Pokemon\n",
      "Use the available tools to help answer questions about these topics.\n",
      "Maintain context across conversations within the same session., tool_calls = None)\n",
      " -> (role = user, content = What's the weather like in London?, tool_calls = None)\n",
      " -> (role = assistant, content = None, tool_calls = [ChatCompletionMessageToolCall(id='call_0Nj195qnSdtyy16iWfsJw7QE', function=Function(arguments='{\"city\":\"London\"}', name='get_weather'), type='function')])\n",
      " -> (role = tool, content = \"{'coord': {'lon': -0.1257, 'lat': 51.5085}, 'weather': [{'id': 800, 'main': 'Clear', 'description': 'clear sky', 'icon': '01d'}], 'base': 'stations', 'main': {'temp': 23.23, 'feels_like': 22.52, 'temp_min': 21.86, 'temp_max': 24.19, 'pressure': 1028, 'humidity': 35, 'sea_level': 1028, 'grnd_level': 1024}, 'visibility': 10000, 'wind': {'speed': 1.79, 'deg': 201, 'gust': 1.79}, 'clouds': {'all': 1}, 'dt': 1751543895, 'sys': {'type': 2, 'id': 268730, 'country': 'GB', 'sunrise': 1751514540, 'sunset': 1751574010}, 'timezone': 3600, 'id': 2643743, 'name': 'London', 'cod': 200}\", tool_calls = None)\n",
      " -> (role = assistant, content = The current weather in London is clear with a temperature of 23.2°C. It feels like 22.5°C. The humidity is at 35%, and there is a light wind blowing at a speed of 1.8 m/s. Visibility is good at 10 kilometers. Overall, it's a pleasant day in London!, tool_calls = None)\n",
      " -> (role = user, content = What's the exchange rate from USD to EUR?, tool_calls = None)\n",
      " -> (role = assistant, content = None, tool_calls = [ChatCompletionMessageToolCall(id='call_XLC1rOjoWjxanKmIncHHAppJ', function=Function(arguments='{\"from_currency\":\"USD\"}', name='get_exchange_rate'), type='function')])\n",
      " -> (role = tool, content = \"{'result': 'success', 'documentation': 'https://www.exchangerate-api.com/docs', 'terms_of_use': 'https://www.exchangerate-api.com/terms', 'time_last_update_unix': 1751500801, 'time_last_update_utc': 'Thu, 03 Jul 2025 00:00:01 +0000', 'time_next_update_unix': 1751587201, 'time_next_update_utc': 'Fri, 04 Jul 2025 00:00:01 +0000', 'base_code': 'USD', 'conversion_rates': {'USD': 1, 'AED': 3.6725, 'AFN': 70.1226, 'ALL': 83.1589, 'AMD': 384.3955, 'ANG': 1.79, 'AOA': 920.8675, 'ARS': 1231.33, 'AUD': 1.5206, 'AWG': 1.79, 'AZN': 1.7, 'BAM': 1.659, 'BBD': 2.0, 'BDT': 122.3572, 'BGN': 1.6595, 'BHD': 0.376, 'BIF': 2980.0952, 'BMD': 1.0, 'BND': 1.2732, 'BOB': 6.9185, 'BRL': 5.4661, 'BSD': 1.0, 'BTN': 85.6716, 'BWP': 13.288, 'BYN': 3.1737, 'BZD': 2.0, 'CAD': 1.3613, 'CDF': 2890.7969, 'CHF': 0.7922, 'CLP': 928.869, 'CNY': 7.163, 'COP': 4026.3146, 'CRC': 505.1162, 'CUP': 24.0, 'CVE': 93.5311, 'CZK': 20.9274, 'DJF': 177.721, 'DKK': 6.3263, 'DOP': 59.4307, 'DZD': 129.4077, 'EGP': 49.3503, 'ERN': 15.0, 'ETB': 136.8003, 'EUR': 0.8482, 'FJD': 2.2377, 'FKP': 0.7325, 'FOK': 6.3267, 'GBP': 0.7325, 'GEL': 2.7185, 'GGP': 0.7325, 'GHS': 10.5924, 'GIP': 0.7325, 'GMD': 72.7206, 'GNF': 8678.8601, 'GTQ': 7.6872, 'GYD': 209.075, 'HKD': 7.85, 'HNL': 26.1385, 'HRK': 6.3911, 'HTG': 131.1062, 'HUF': 339.0857, 'IDR': 16223.4715, 'ILS': 3.3753, 'IMP': 0.7325, 'INR': 85.6718, 'IQD': 1308.3586, 'IRR': 42249.8402, 'ISK': 121.3513, 'JEP': 0.7325, 'JMD': 159.8143, 'JOD': 0.709, 'JPY': 143.6699, 'KES': 129.2244, 'KGS': 87.2939, 'KHR': 4011.0187, 'KID': 1.5205, 'KMF': 417.3064, 'KRW': 1356.9612, 'KWD': 0.3052, 'KYD': 0.8333, 'KZT': 518.7593, 'LAK': 21621.7367, 'LBP': 89500.0, 'LKR': 299.755, 'LRD': 200.4703, 'LSL': 17.5854, 'LYD': 5.3818, 'MAD': 8.9751, 'MDL': 16.7896, 'MGA': 4399.7313, 'MKD': 52.1587, 'MMK': 2099.7875, 'MNT': 3573.2063, 'MOP': 8.0857, 'MRU': 39.8629, 'MUR': 44.8491, 'MVR': 15.4495, 'MWK': 1738.1223, 'MXN': 18.7709, 'MYR': 4.2265, 'MZN': 63.6845, 'NAD': 17.5854, 'NGN': 1530.3799, 'NIO': 36.7865, 'NOK': 10.0799, 'NPR': 137.0745, 'NZD': 1.6437, 'OMR': 0.3845, 'PAB': 1.0, 'PEN': 3.5573, 'PGK': 4.1155, 'PHP': 56.3659, 'PKR': 283.9313, 'PLN': 3.612, 'PYG': 7974.4088, 'QAR': 3.64, 'RON': 4.3053, 'RSD': 99.3959, 'RUB': 78.7217, 'RWF': 1442.4577, 'SAR': 3.75, 'SBD': 8.5056, 'SCR': 14.5478, 'SDG': 543.8155, 'SEK': 9.5195, 'SGD': 1.2732, 'SHP': 0.7325, 'SLE': 22.4264, 'SLL': 22426.3818, 'SOS': 571.287, 'SRD': 37.543, 'SSP': 4613.7786, 'STN': 20.7819, 'SYP': 13049.1182, 'SZL': 17.5854, 'THB': 32.4088, 'TJS': 9.8413, 'TMT': 3.4982, 'TND': 2.8862, 'TOP': 2.3609, 'TRY': 39.8898, 'TTD': 6.7772, 'TVD': 1.5205, 'TWD': 28.9066, 'TZS': 2632.7383, 'UAH': 41.8502, 'UGX': 3584.7009, 'UYU': 39.7101, 'UZS': 12630.5321, 'VES': 109.7724, 'VND': 26055.8844, 'VUV': 118.8854, 'WST': 2.6826, 'XAF': 556.4085, 'XCD': 2.7, 'XCG': 1.79, 'XDR': 0.7265, 'XOF': 556.4085, 'XPF': 101.2221, 'YER': 242.1455, 'ZAR': 17.5855, 'ZMW': 23.9946, 'ZWL': 26.9529}}\", tool_calls = None)\n",
      " -> (role = assistant, content = The current exchange rate from USD to EUR is approximately 0.8482. This means that 1 US Dollar is equivalent to about 0.8482 Euros., tool_calls = None)\n",
      "\n",
      "# Run 3 {'run_id': '95ba2906-b684-4cd7-bc7f-7026a65bd1a8', 'start_timestamp': '2025-07-03 09:09:57.093268', 'end_timestamp': '2025-07-03 09:10:01.670982', 'snapshot_counts': 5}\n",
      "Messages:\n",
      " -> (role = system, content = You are an assistant that can help with:\n",
      "1. Getting weather information for cities\n",
      "2. Checking currency exchange rates\n",
      "3. Getting a random Pokemon\n",
      "Use the available tools to help answer questions about these topics.\n",
      "Maintain context across conversations within the same session., tool_calls = None)\n",
      " -> (role = user, content = What's the weather like in London?, tool_calls = None)\n",
      " -> (role = assistant, content = None, tool_calls = [ChatCompletionMessageToolCall(id='call_0Nj195qnSdtyy16iWfsJw7QE', function=Function(arguments='{\"city\":\"London\"}', name='get_weather'), type='function')])\n",
      " -> (role = tool, content = \"{'coord': {'lon': -0.1257, 'lat': 51.5085}, 'weather': [{'id': 800, 'main': 'Clear', 'description': 'clear sky', 'icon': '01d'}], 'base': 'stations', 'main': {'temp': 23.23, 'feels_like': 22.52, 'temp_min': 21.86, 'temp_max': 24.19, 'pressure': 1028, 'humidity': 35, 'sea_level': 1028, 'grnd_level': 1024}, 'visibility': 10000, 'wind': {'speed': 1.79, 'deg': 201, 'gust': 1.79}, 'clouds': {'all': 1}, 'dt': 1751543895, 'sys': {'type': 2, 'id': 268730, 'country': 'GB', 'sunrise': 1751514540, 'sunset': 1751574010}, 'timezone': 3600, 'id': 2643743, 'name': 'London', 'cod': 200}\", tool_calls = None)\n",
      " -> (role = assistant, content = The current weather in London is clear with a temperature of 23.2°C. It feels like 22.5°C. The humidity is at 35%, and there is a light wind blowing at a speed of 1.8 m/s. Visibility is good at 10 kilometers. Overall, it's a pleasant day in London!, tool_calls = None)\n",
      " -> (role = user, content = What's the exchange rate from USD to EUR?, tool_calls = None)\n",
      " -> (role = assistant, content = None, tool_calls = [ChatCompletionMessageToolCall(id='call_XLC1rOjoWjxanKmIncHHAppJ', function=Function(arguments='{\"from_currency\":\"USD\"}', name='get_exchange_rate'), type='function')])\n",
      " -> (role = tool, content = \"{'result': 'success', 'documentation': 'https://www.exchangerate-api.com/docs', 'terms_of_use': 'https://www.exchangerate-api.com/terms', 'time_last_update_unix': 1751500801, 'time_last_update_utc': 'Thu, 03 Jul 2025 00:00:01 +0000', 'time_next_update_unix': 1751587201, 'time_next_update_utc': 'Fri, 04 Jul 2025 00:00:01 +0000', 'base_code': 'USD', 'conversion_rates': {'USD': 1, 'AED': 3.6725, 'AFN': 70.1226, 'ALL': 83.1589, 'AMD': 384.3955, 'ANG': 1.79, 'AOA': 920.8675, 'ARS': 1231.33, 'AUD': 1.5206, 'AWG': 1.79, 'AZN': 1.7, 'BAM': 1.659, 'BBD': 2.0, 'BDT': 122.3572, 'BGN': 1.6595, 'BHD': 0.376, 'BIF': 2980.0952, 'BMD': 1.0, 'BND': 1.2732, 'BOB': 6.9185, 'BRL': 5.4661, 'BSD': 1.0, 'BTN': 85.6716, 'BWP': 13.288, 'BYN': 3.1737, 'BZD': 2.0, 'CAD': 1.3613, 'CDF': 2890.7969, 'CHF': 0.7922, 'CLP': 928.869, 'CNY': 7.163, 'COP': 4026.3146, 'CRC': 505.1162, 'CUP': 24.0, 'CVE': 93.5311, 'CZK': 20.9274, 'DJF': 177.721, 'DKK': 6.3263, 'DOP': 59.4307, 'DZD': 129.4077, 'EGP': 49.3503, 'ERN': 15.0, 'ETB': 136.8003, 'EUR': 0.8482, 'FJD': 2.2377, 'FKP': 0.7325, 'FOK': 6.3267, 'GBP': 0.7325, 'GEL': 2.7185, 'GGP': 0.7325, 'GHS': 10.5924, 'GIP': 0.7325, 'GMD': 72.7206, 'GNF': 8678.8601, 'GTQ': 7.6872, 'GYD': 209.075, 'HKD': 7.85, 'HNL': 26.1385, 'HRK': 6.3911, 'HTG': 131.1062, 'HUF': 339.0857, 'IDR': 16223.4715, 'ILS': 3.3753, 'IMP': 0.7325, 'INR': 85.6718, 'IQD': 1308.3586, 'IRR': 42249.8402, 'ISK': 121.3513, 'JEP': 0.7325, 'JMD': 159.8143, 'JOD': 0.709, 'JPY': 143.6699, 'KES': 129.2244, 'KGS': 87.2939, 'KHR': 4011.0187, 'KID': 1.5205, 'KMF': 417.3064, 'KRW': 1356.9612, 'KWD': 0.3052, 'KYD': 0.8333, 'KZT': 518.7593, 'LAK': 21621.7367, 'LBP': 89500.0, 'LKR': 299.755, 'LRD': 200.4703, 'LSL': 17.5854, 'LYD': 5.3818, 'MAD': 8.9751, 'MDL': 16.7896, 'MGA': 4399.7313, 'MKD': 52.1587, 'MMK': 2099.7875, 'MNT': 3573.2063, 'MOP': 8.0857, 'MRU': 39.8629, 'MUR': 44.8491, 'MVR': 15.4495, 'MWK': 1738.1223, 'MXN': 18.7709, 'MYR': 4.2265, 'MZN': 63.6845, 'NAD': 17.5854, 'NGN': 1530.3799, 'NIO': 36.7865, 'NOK': 10.0799, 'NPR': 137.0745, 'NZD': 1.6437, 'OMR': 0.3845, 'PAB': 1.0, 'PEN': 3.5573, 'PGK': 4.1155, 'PHP': 56.3659, 'PKR': 283.9313, 'PLN': 3.612, 'PYG': 7974.4088, 'QAR': 3.64, 'RON': 4.3053, 'RSD': 99.3959, 'RUB': 78.7217, 'RWF': 1442.4577, 'SAR': 3.75, 'SBD': 8.5056, 'SCR': 14.5478, 'SDG': 543.8155, 'SEK': 9.5195, 'SGD': 1.2732, 'SHP': 0.7325, 'SLE': 22.4264, 'SLL': 22426.3818, 'SOS': 571.287, 'SRD': 37.543, 'SSP': 4613.7786, 'STN': 20.7819, 'SYP': 13049.1182, 'SZL': 17.5854, 'THB': 32.4088, 'TJS': 9.8413, 'TMT': 3.4982, 'TND': 2.8862, 'TOP': 2.3609, 'TRY': 39.8898, 'TTD': 6.7772, 'TVD': 1.5205, 'TWD': 28.9066, 'TZS': 2632.7383, 'UAH': 41.8502, 'UGX': 3584.7009, 'UYU': 39.7101, 'UZS': 12630.5321, 'VES': 109.7724, 'VND': 26055.8844, 'VUV': 118.8854, 'WST': 2.6826, 'XAF': 556.4085, 'XCD': 2.7, 'XCG': 1.79, 'XDR': 0.7265, 'XOF': 556.4085, 'XPF': 101.2221, 'YER': 242.1455, 'ZAR': 17.5855, 'ZMW': 23.9946, 'ZWL': 26.9529}}\", tool_calls = None)\n",
      " -> (role = assistant, content = The current exchange rate from USD to EUR is approximately 0.8482. This means that 1 US Dollar is equivalent to about 0.8482 Euros., tool_calls = None)\n",
      " -> (role = user, content = Pick one random Pokemon!, tool_calls = None)\n",
      " -> (role = assistant, content = None, tool_calls = [ChatCompletionMessageToolCall(id='call_TMnwdQh2OiuIiY6ma1R6NXW5', function=Function(arguments='{}', name='get_random_pokemon'), type='function')])\n",
      " -> (role = tool, content = \"{'name': 'staryu', 'url': 'https://pokeapi.co/api/v2/pokemon/120/'}\", tool_calls = None)\n",
      " -> (role = assistant, content = You got a random Pokémon: **Staryu**! \n",
      "\n",
      "You can learn more about it [here](https://pokeapi.co/api/v2/pokemon/120/)., tool_calls = None)\n"
     ]
    }
   ],
   "source": [
    "runs = agent.get_session_runs(session_id)\n",
    "for i, run_object in enumerate(runs, 1):\n",
    "    print(f\"\\n# Run {i}\", run_object.metadata)\n",
    "    print(\"Messages:\")\n",
    "    print_messages(run_object.get_final_state()[\"messages\"])"
   ]
  },
  {
   "cell_type": "code",
   "execution_count": 14,
   "id": "98dafe45",
   "metadata": {},
   "outputs": [
    {
     "name": "stdout",
     "output_type": "stream",
     "text": [
      "Run('0f742e3c-26df-48c1-a3ea-f1de16066a0b')\n",
      "-> Snapshot('3a00dad3-1bf5-4f1a-b4dd-d94f7c28efa9') @ [2025-07-03 09:09:48.010430]: __entry__.State({'user_query': \"What's the weather like in London?\", 'instructions': 'You are an assistant that can help with:\\n1. Getting weather information for cities\\n2. Checking currency exchange rates\\n3. Getting a random Pokemon\\nUse the available tools to help answer questions about these topics.\\nMaintain context across conversations within the same session.', 'messages': [], 'current_tool_calls': None, 'session_id': 'external_tools'})\n",
      "-> Snapshot('74868b1d-9822-463b-8c78-a19886ef629f') @ [2025-07-03 09:09:48.010626]: message_prep.State({'user_query': \"What's the weather like in London?\", 'instructions': 'You are an assistant that can help with:\\n1. Getting weather information for cities\\n2. Checking currency exchange rates\\n3. Getting a random Pokemon\\nUse the available tools to help answer questions about these topics.\\nMaintain context across conversations within the same session.', 'messages': [SystemMessage(role='system', content='You are an assistant that can help with:\\n1. Getting weather information for cities\\n2. Checking currency exchange rates\\n3. Getting a random Pokemon\\nUse the available tools to help answer questions about these topics.\\nMaintain context across conversations within the same session.'), UserMessage(role='user', content=\"What's the weather like in London?\")], 'current_tool_calls': None, 'session_id': 'external_tools'})\n",
      "-> Snapshot('0054f42f-2910-4c5f-8b5a-7845950ee171') @ [2025-07-03 09:09:49.894229]: llm_processor.State({'user_query': \"What's the weather like in London?\", 'instructions': 'You are an assistant that can help with:\\n1. Getting weather information for cities\\n2. Checking currency exchange rates\\n3. Getting a random Pokemon\\nUse the available tools to help answer questions about these topics.\\nMaintain context across conversations within the same session.', 'messages': [SystemMessage(role='system', content='You are an assistant that can help with:\\n1. Getting weather information for cities\\n2. Checking currency exchange rates\\n3. Getting a random Pokemon\\nUse the available tools to help answer questions about these topics.\\nMaintain context across conversations within the same session.'), UserMessage(role='user', content=\"What's the weather like in London?\"), AIMessage(role='assistant', content=None, tool_calls=[ChatCompletionMessageToolCall(id='call_0Nj195qnSdtyy16iWfsJw7QE', function=Function(arguments='{\"city\":\"London\"}', name='get_weather'), type='function')])], 'current_tool_calls': [ChatCompletionMessageToolCall(id='call_0Nj195qnSdtyy16iWfsJw7QE', function=Function(arguments='{\"city\":\"London\"}', name='get_weather'), type='function')], 'session_id': 'external_tools'})\n",
      "-> Snapshot('dc1b0350-6bb1-48e3-993d-9ff2ac800734') @ [2025-07-03 09:09:50.249687]: tool_executor.State({'user_query': \"What's the weather like in London?\", 'instructions': 'You are an assistant that can help with:\\n1. Getting weather information for cities\\n2. Checking currency exchange rates\\n3. Getting a random Pokemon\\nUse the available tools to help answer questions about these topics.\\nMaintain context across conversations within the same session.', 'messages': [SystemMessage(role='system', content='You are an assistant that can help with:\\n1. Getting weather information for cities\\n2. Checking currency exchange rates\\n3. Getting a random Pokemon\\nUse the available tools to help answer questions about these topics.\\nMaintain context across conversations within the same session.'), UserMessage(role='user', content=\"What's the weather like in London?\"), AIMessage(role='assistant', content=None, tool_calls=[ChatCompletionMessageToolCall(id='call_0Nj195qnSdtyy16iWfsJw7QE', function=Function(arguments='{\"city\":\"London\"}', name='get_weather'), type='function')]), ToolMessage(role='tool', content='\"{\\'coord\\': {\\'lon\\': -0.1257, \\'lat\\': 51.5085}, \\'weather\\': [{\\'id\\': 800, \\'main\\': \\'Clear\\', \\'description\\': \\'clear sky\\', \\'icon\\': \\'01d\\'}], \\'base\\': \\'stations\\', \\'main\\': {\\'temp\\': 23.23, \\'feels_like\\': 22.52, \\'temp_min\\': 21.86, \\'temp_max\\': 24.19, \\'pressure\\': 1028, \\'humidity\\': 35, \\'sea_level\\': 1028, \\'grnd_level\\': 1024}, \\'visibility\\': 10000, \\'wind\\': {\\'speed\\': 1.79, \\'deg\\': 201, \\'gust\\': 1.79}, \\'clouds\\': {\\'all\\': 1}, \\'dt\\': 1751543895, \\'sys\\': {\\'type\\': 2, \\'id\\': 268730, \\'country\\': \\'GB\\', \\'sunrise\\': 1751514540, \\'sunset\\': 1751574010}, \\'timezone\\': 3600, \\'id\\': 2643743, \\'name\\': \\'London\\', \\'cod\\': 200}\"', tool_call_id='call_0Nj195qnSdtyy16iWfsJw7QE', name='get_weather')], 'current_tool_calls': None, 'session_id': 'external_tools'})\n",
      "-> Snapshot('b8924207-172e-4fc6-bbfa-c857f648b3fb') @ [2025-07-03 09:09:53.680736]: llm_processor.State({'user_query': \"What's the weather like in London?\", 'instructions': 'You are an assistant that can help with:\\n1. Getting weather information for cities\\n2. Checking currency exchange rates\\n3. Getting a random Pokemon\\nUse the available tools to help answer questions about these topics.\\nMaintain context across conversations within the same session.', 'messages': [SystemMessage(role='system', content='You are an assistant that can help with:\\n1. Getting weather information for cities\\n2. Checking currency exchange rates\\n3. Getting a random Pokemon\\nUse the available tools to help answer questions about these topics.\\nMaintain context across conversations within the same session.'), UserMessage(role='user', content=\"What's the weather like in London?\"), AIMessage(role='assistant', content=None, tool_calls=[ChatCompletionMessageToolCall(id='call_0Nj195qnSdtyy16iWfsJw7QE', function=Function(arguments='{\"city\":\"London\"}', name='get_weather'), type='function')]), ToolMessage(role='tool', content='\"{\\'coord\\': {\\'lon\\': -0.1257, \\'lat\\': 51.5085}, \\'weather\\': [{\\'id\\': 800, \\'main\\': \\'Clear\\', \\'description\\': \\'clear sky\\', \\'icon\\': \\'01d\\'}], \\'base\\': \\'stations\\', \\'main\\': {\\'temp\\': 23.23, \\'feels_like\\': 22.52, \\'temp_min\\': 21.86, \\'temp_max\\': 24.19, \\'pressure\\': 1028, \\'humidity\\': 35, \\'sea_level\\': 1028, \\'grnd_level\\': 1024}, \\'visibility\\': 10000, \\'wind\\': {\\'speed\\': 1.79, \\'deg\\': 201, \\'gust\\': 1.79}, \\'clouds\\': {\\'all\\': 1}, \\'dt\\': 1751543895, \\'sys\\': {\\'type\\': 2, \\'id\\': 268730, \\'country\\': \\'GB\\', \\'sunrise\\': 1751514540, \\'sunset\\': 1751574010}, \\'timezone\\': 3600, \\'id\\': 2643743, \\'name\\': \\'London\\', \\'cod\\': 200}\"', tool_call_id='call_0Nj195qnSdtyy16iWfsJw7QE', name='get_weather'), AIMessage(role='assistant', content=\"The current weather in London is clear with a temperature of 23.2°C. It feels like 22.5°C. The humidity is at 35%, and there is a light wind blowing at a speed of 1.8 m/s. Visibility is good at 10 kilometers. Overall, it's a pleasant day in London!\", tool_calls=None)], 'current_tool_calls': None, 'session_id': 'external_tools'})\n",
      "\n",
      "\n",
      "Run('fe9f99e8-d31c-4c3c-8baa-ef6d7fd66823')\n",
      "-> Snapshot('97822ddd-9baa-481c-bde2-0f6f4ceaaa6f') @ [2025-07-03 09:09:53.686748]: __entry__.State({'user_query': \"What's the exchange rate from USD to EUR?\", 'instructions': 'You are an assistant that can help with:\\n1. Getting weather information for cities\\n2. Checking currency exchange rates\\n3. Getting a random Pokemon\\nUse the available tools to help answer questions about these topics.\\nMaintain context across conversations within the same session.', 'messages': [SystemMessage(role='system', content='You are an assistant that can help with:\\n1. Getting weather information for cities\\n2. Checking currency exchange rates\\n3. Getting a random Pokemon\\nUse the available tools to help answer questions about these topics.\\nMaintain context across conversations within the same session.'), UserMessage(role='user', content=\"What's the weather like in London?\"), AIMessage(role='assistant', content=None, tool_calls=[ChatCompletionMessageToolCall(id='call_0Nj195qnSdtyy16iWfsJw7QE', function=Function(arguments='{\"city\":\"London\"}', name='get_weather'), type='function')]), ToolMessage(role='tool', content='\"{\\'coord\\': {\\'lon\\': -0.1257, \\'lat\\': 51.5085}, \\'weather\\': [{\\'id\\': 800, \\'main\\': \\'Clear\\', \\'description\\': \\'clear sky\\', \\'icon\\': \\'01d\\'}], \\'base\\': \\'stations\\', \\'main\\': {\\'temp\\': 23.23, \\'feels_like\\': 22.52, \\'temp_min\\': 21.86, \\'temp_max\\': 24.19, \\'pressure\\': 1028, \\'humidity\\': 35, \\'sea_level\\': 1028, \\'grnd_level\\': 1024}, \\'visibility\\': 10000, \\'wind\\': {\\'speed\\': 1.79, \\'deg\\': 201, \\'gust\\': 1.79}, \\'clouds\\': {\\'all\\': 1}, \\'dt\\': 1751543895, \\'sys\\': {\\'type\\': 2, \\'id\\': 268730, \\'country\\': \\'GB\\', \\'sunrise\\': 1751514540, \\'sunset\\': 1751574010}, \\'timezone\\': 3600, \\'id\\': 2643743, \\'name\\': \\'London\\', \\'cod\\': 200}\"', tool_call_id='call_0Nj195qnSdtyy16iWfsJw7QE', name='get_weather'), AIMessage(role='assistant', content=\"The current weather in London is clear with a temperature of 23.2°C. It feels like 22.5°C. The humidity is at 35%, and there is a light wind blowing at a speed of 1.8 m/s. Visibility is good at 10 kilometers. Overall, it's a pleasant day in London!\", tool_calls=None)], 'current_tool_calls': None, 'session_id': 'external_tools'})\n",
      "-> Snapshot('241eb143-8dc9-4cfb-a6c3-8f3580ef65e9') @ [2025-07-03 09:09:53.686845]: message_prep.State({'user_query': \"What's the exchange rate from USD to EUR?\", 'instructions': 'You are an assistant that can help with:\\n1. Getting weather information for cities\\n2. Checking currency exchange rates\\n3. Getting a random Pokemon\\nUse the available tools to help answer questions about these topics.\\nMaintain context across conversations within the same session.', 'messages': [SystemMessage(role='system', content='You are an assistant that can help with:\\n1. Getting weather information for cities\\n2. Checking currency exchange rates\\n3. Getting a random Pokemon\\nUse the available tools to help answer questions about these topics.\\nMaintain context across conversations within the same session.'), UserMessage(role='user', content=\"What's the weather like in London?\"), AIMessage(role='assistant', content=None, tool_calls=[ChatCompletionMessageToolCall(id='call_0Nj195qnSdtyy16iWfsJw7QE', function=Function(arguments='{\"city\":\"London\"}', name='get_weather'), type='function')]), ToolMessage(role='tool', content='\"{\\'coord\\': {\\'lon\\': -0.1257, \\'lat\\': 51.5085}, \\'weather\\': [{\\'id\\': 800, \\'main\\': \\'Clear\\', \\'description\\': \\'clear sky\\', \\'icon\\': \\'01d\\'}], \\'base\\': \\'stations\\', \\'main\\': {\\'temp\\': 23.23, \\'feels_like\\': 22.52, \\'temp_min\\': 21.86, \\'temp_max\\': 24.19, \\'pressure\\': 1028, \\'humidity\\': 35, \\'sea_level\\': 1028, \\'grnd_level\\': 1024}, \\'visibility\\': 10000, \\'wind\\': {\\'speed\\': 1.79, \\'deg\\': 201, \\'gust\\': 1.79}, \\'clouds\\': {\\'all\\': 1}, \\'dt\\': 1751543895, \\'sys\\': {\\'type\\': 2, \\'id\\': 268730, \\'country\\': \\'GB\\', \\'sunrise\\': 1751514540, \\'sunset\\': 1751574010}, \\'timezone\\': 3600, \\'id\\': 2643743, \\'name\\': \\'London\\', \\'cod\\': 200}\"', tool_call_id='call_0Nj195qnSdtyy16iWfsJw7QE', name='get_weather'), AIMessage(role='assistant', content=\"The current weather in London is clear with a temperature of 23.2°C. It feels like 22.5°C. The humidity is at 35%, and there is a light wind blowing at a speed of 1.8 m/s. Visibility is good at 10 kilometers. Overall, it's a pleasant day in London!\", tool_calls=None), UserMessage(role='user', content=\"What's the exchange rate from USD to EUR?\")], 'current_tool_calls': None, 'session_id': 'external_tools'})\n",
      "-> Snapshot('a6f7ff94-1d5e-4c64-9761-f5ce22e53344') @ [2025-07-03 09:09:55.128700]: llm_processor.State({'user_query': \"What's the exchange rate from USD to EUR?\", 'instructions': 'You are an assistant that can help with:\\n1. Getting weather information for cities\\n2. Checking currency exchange rates\\n3. Getting a random Pokemon\\nUse the available tools to help answer questions about these topics.\\nMaintain context across conversations within the same session.', 'messages': [SystemMessage(role='system', content='You are an assistant that can help with:\\n1. Getting weather information for cities\\n2. Checking currency exchange rates\\n3. Getting a random Pokemon\\nUse the available tools to help answer questions about these topics.\\nMaintain context across conversations within the same session.'), UserMessage(role='user', content=\"What's the weather like in London?\"), AIMessage(role='assistant', content=None, tool_calls=[ChatCompletionMessageToolCall(id='call_0Nj195qnSdtyy16iWfsJw7QE', function=Function(arguments='{\"city\":\"London\"}', name='get_weather'), type='function')]), ToolMessage(role='tool', content='\"{\\'coord\\': {\\'lon\\': -0.1257, \\'lat\\': 51.5085}, \\'weather\\': [{\\'id\\': 800, \\'main\\': \\'Clear\\', \\'description\\': \\'clear sky\\', \\'icon\\': \\'01d\\'}], \\'base\\': \\'stations\\', \\'main\\': {\\'temp\\': 23.23, \\'feels_like\\': 22.52, \\'temp_min\\': 21.86, \\'temp_max\\': 24.19, \\'pressure\\': 1028, \\'humidity\\': 35, \\'sea_level\\': 1028, \\'grnd_level\\': 1024}, \\'visibility\\': 10000, \\'wind\\': {\\'speed\\': 1.79, \\'deg\\': 201, \\'gust\\': 1.79}, \\'clouds\\': {\\'all\\': 1}, \\'dt\\': 1751543895, \\'sys\\': {\\'type\\': 2, \\'id\\': 268730, \\'country\\': \\'GB\\', \\'sunrise\\': 1751514540, \\'sunset\\': 1751574010}, \\'timezone\\': 3600, \\'id\\': 2643743, \\'name\\': \\'London\\', \\'cod\\': 200}\"', tool_call_id='call_0Nj195qnSdtyy16iWfsJw7QE', name='get_weather'), AIMessage(role='assistant', content=\"The current weather in London is clear with a temperature of 23.2°C. It feels like 22.5°C. The humidity is at 35%, and there is a light wind blowing at a speed of 1.8 m/s. Visibility is good at 10 kilometers. Overall, it's a pleasant day in London!\", tool_calls=None), UserMessage(role='user', content=\"What's the exchange rate from USD to EUR?\"), AIMessage(role='assistant', content=None, tool_calls=[ChatCompletionMessageToolCall(id='call_XLC1rOjoWjxanKmIncHHAppJ', function=Function(arguments='{\"from_currency\":\"USD\"}', name='get_exchange_rate'), type='function')])], 'current_tool_calls': [ChatCompletionMessageToolCall(id='call_XLC1rOjoWjxanKmIncHHAppJ', function=Function(arguments='{\"from_currency\":\"USD\"}', name='get_exchange_rate'), type='function')], 'session_id': 'external_tools'})\n",
      "-> Snapshot('650eea2c-e2df-4bc5-b41c-5a486ac103fa') @ [2025-07-03 09:09:55.588707]: tool_executor.State({'user_query': \"What's the exchange rate from USD to EUR?\", 'instructions': 'You are an assistant that can help with:\\n1. Getting weather information for cities\\n2. Checking currency exchange rates\\n3. Getting a random Pokemon\\nUse the available tools to help answer questions about these topics.\\nMaintain context across conversations within the same session.', 'messages': [SystemMessage(role='system', content='You are an assistant that can help with:\\n1. Getting weather information for cities\\n2. Checking currency exchange rates\\n3. Getting a random Pokemon\\nUse the available tools to help answer questions about these topics.\\nMaintain context across conversations within the same session.'), UserMessage(role='user', content=\"What's the weather like in London?\"), AIMessage(role='assistant', content=None, tool_calls=[ChatCompletionMessageToolCall(id='call_0Nj195qnSdtyy16iWfsJw7QE', function=Function(arguments='{\"city\":\"London\"}', name='get_weather'), type='function')]), ToolMessage(role='tool', content='\"{\\'coord\\': {\\'lon\\': -0.1257, \\'lat\\': 51.5085}, \\'weather\\': [{\\'id\\': 800, \\'main\\': \\'Clear\\', \\'description\\': \\'clear sky\\', \\'icon\\': \\'01d\\'}], \\'base\\': \\'stations\\', \\'main\\': {\\'temp\\': 23.23, \\'feels_like\\': 22.52, \\'temp_min\\': 21.86, \\'temp_max\\': 24.19, \\'pressure\\': 1028, \\'humidity\\': 35, \\'sea_level\\': 1028, \\'grnd_level\\': 1024}, \\'visibility\\': 10000, \\'wind\\': {\\'speed\\': 1.79, \\'deg\\': 201, \\'gust\\': 1.79}, \\'clouds\\': {\\'all\\': 1}, \\'dt\\': 1751543895, \\'sys\\': {\\'type\\': 2, \\'id\\': 268730, \\'country\\': \\'GB\\', \\'sunrise\\': 1751514540, \\'sunset\\': 1751574010}, \\'timezone\\': 3600, \\'id\\': 2643743, \\'name\\': \\'London\\', \\'cod\\': 200}\"', tool_call_id='call_0Nj195qnSdtyy16iWfsJw7QE', name='get_weather'), AIMessage(role='assistant', content=\"The current weather in London is clear with a temperature of 23.2°C. It feels like 22.5°C. The humidity is at 35%, and there is a light wind blowing at a speed of 1.8 m/s. Visibility is good at 10 kilometers. Overall, it's a pleasant day in London!\", tool_calls=None), UserMessage(role='user', content=\"What's the exchange rate from USD to EUR?\"), AIMessage(role='assistant', content=None, tool_calls=[ChatCompletionMessageToolCall(id='call_XLC1rOjoWjxanKmIncHHAppJ', function=Function(arguments='{\"from_currency\":\"USD\"}', name='get_exchange_rate'), type='function')]), ToolMessage(role='tool', content='\"{\\'result\\': \\'success\\', \\'documentation\\': \\'https://www.exchangerate-api.com/docs\\', \\'terms_of_use\\': \\'https://www.exchangerate-api.com/terms\\', \\'time_last_update_unix\\': 1751500801, \\'time_last_update_utc\\': \\'Thu, 03 Jul 2025 00:00:01 +0000\\', \\'time_next_update_unix\\': 1751587201, \\'time_next_update_utc\\': \\'Fri, 04 Jul 2025 00:00:01 +0000\\', \\'base_code\\': \\'USD\\', \\'conversion_rates\\': {\\'USD\\': 1, \\'AED\\': 3.6725, \\'AFN\\': 70.1226, \\'ALL\\': 83.1589, \\'AMD\\': 384.3955, \\'ANG\\': 1.79, \\'AOA\\': 920.8675, \\'ARS\\': 1231.33, \\'AUD\\': 1.5206, \\'AWG\\': 1.79, \\'AZN\\': 1.7, \\'BAM\\': 1.659, \\'BBD\\': 2.0, \\'BDT\\': 122.3572, \\'BGN\\': 1.6595, \\'BHD\\': 0.376, \\'BIF\\': 2980.0952, \\'BMD\\': 1.0, \\'BND\\': 1.2732, \\'BOB\\': 6.9185, \\'BRL\\': 5.4661, \\'BSD\\': 1.0, \\'BTN\\': 85.6716, \\'BWP\\': 13.288, \\'BYN\\': 3.1737, \\'BZD\\': 2.0, \\'CAD\\': 1.3613, \\'CDF\\': 2890.7969, \\'CHF\\': 0.7922, \\'CLP\\': 928.869, \\'CNY\\': 7.163, \\'COP\\': 4026.3146, \\'CRC\\': 505.1162, \\'CUP\\': 24.0, \\'CVE\\': 93.5311, \\'CZK\\': 20.9274, \\'DJF\\': 177.721, \\'DKK\\': 6.3263, \\'DOP\\': 59.4307, \\'DZD\\': 129.4077, \\'EGP\\': 49.3503, \\'ERN\\': 15.0, \\'ETB\\': 136.8003, \\'EUR\\': 0.8482, \\'FJD\\': 2.2377, \\'FKP\\': 0.7325, \\'FOK\\': 6.3267, \\'GBP\\': 0.7325, \\'GEL\\': 2.7185, \\'GGP\\': 0.7325, \\'GHS\\': 10.5924, \\'GIP\\': 0.7325, \\'GMD\\': 72.7206, \\'GNF\\': 8678.8601, \\'GTQ\\': 7.6872, \\'GYD\\': 209.075, \\'HKD\\': 7.85, \\'HNL\\': 26.1385, \\'HRK\\': 6.3911, \\'HTG\\': 131.1062, \\'HUF\\': 339.0857, \\'IDR\\': 16223.4715, \\'ILS\\': 3.3753, \\'IMP\\': 0.7325, \\'INR\\': 85.6718, \\'IQD\\': 1308.3586, \\'IRR\\': 42249.8402, \\'ISK\\': 121.3513, \\'JEP\\': 0.7325, \\'JMD\\': 159.8143, \\'JOD\\': 0.709, \\'JPY\\': 143.6699, \\'KES\\': 129.2244, \\'KGS\\': 87.2939, \\'KHR\\': 4011.0187, \\'KID\\': 1.5205, \\'KMF\\': 417.3064, \\'KRW\\': 1356.9612, \\'KWD\\': 0.3052, \\'KYD\\': 0.8333, \\'KZT\\': 518.7593, \\'LAK\\': 21621.7367, \\'LBP\\': 89500.0, \\'LKR\\': 299.755, \\'LRD\\': 200.4703, \\'LSL\\': 17.5854, \\'LYD\\': 5.3818, \\'MAD\\': 8.9751, \\'MDL\\': 16.7896, \\'MGA\\': 4399.7313, \\'MKD\\': 52.1587, \\'MMK\\': 2099.7875, \\'MNT\\': 3573.2063, \\'MOP\\': 8.0857, \\'MRU\\': 39.8629, \\'MUR\\': 44.8491, \\'MVR\\': 15.4495, \\'MWK\\': 1738.1223, \\'MXN\\': 18.7709, \\'MYR\\': 4.2265, \\'MZN\\': 63.6845, \\'NAD\\': 17.5854, \\'NGN\\': 1530.3799, \\'NIO\\': 36.7865, \\'NOK\\': 10.0799, \\'NPR\\': 137.0745, \\'NZD\\': 1.6437, \\'OMR\\': 0.3845, \\'PAB\\': 1.0, \\'PEN\\': 3.5573, \\'PGK\\': 4.1155, \\'PHP\\': 56.3659, \\'PKR\\': 283.9313, \\'PLN\\': 3.612, \\'PYG\\': 7974.4088, \\'QAR\\': 3.64, \\'RON\\': 4.3053, \\'RSD\\': 99.3959, \\'RUB\\': 78.7217, \\'RWF\\': 1442.4577, \\'SAR\\': 3.75, \\'SBD\\': 8.5056, \\'SCR\\': 14.5478, \\'SDG\\': 543.8155, \\'SEK\\': 9.5195, \\'SGD\\': 1.2732, \\'SHP\\': 0.7325, \\'SLE\\': 22.4264, \\'SLL\\': 22426.3818, \\'SOS\\': 571.287, \\'SRD\\': 37.543, \\'SSP\\': 4613.7786, \\'STN\\': 20.7819, \\'SYP\\': 13049.1182, \\'SZL\\': 17.5854, \\'THB\\': 32.4088, \\'TJS\\': 9.8413, \\'TMT\\': 3.4982, \\'TND\\': 2.8862, \\'TOP\\': 2.3609, \\'TRY\\': 39.8898, \\'TTD\\': 6.7772, \\'TVD\\': 1.5205, \\'TWD\\': 28.9066, \\'TZS\\': 2632.7383, \\'UAH\\': 41.8502, \\'UGX\\': 3584.7009, \\'UYU\\': 39.7101, \\'UZS\\': 12630.5321, \\'VES\\': 109.7724, \\'VND\\': 26055.8844, \\'VUV\\': 118.8854, \\'WST\\': 2.6826, \\'XAF\\': 556.4085, \\'XCD\\': 2.7, \\'XCG\\': 1.79, \\'XDR\\': 0.7265, \\'XOF\\': 556.4085, \\'XPF\\': 101.2221, \\'YER\\': 242.1455, \\'ZAR\\': 17.5855, \\'ZMW\\': 23.9946, \\'ZWL\\': 26.9529}}\"', tool_call_id='call_XLC1rOjoWjxanKmIncHHAppJ', name='get_exchange_rate')], 'current_tool_calls': None, 'session_id': 'external_tools'})\n",
      "-> Snapshot('f7cc5d5b-962d-4a04-ba85-e4cc2fda54a1') @ [2025-07-03 09:09:57.082451]: llm_processor.State({'user_query': \"What's the exchange rate from USD to EUR?\", 'instructions': 'You are an assistant that can help with:\\n1. Getting weather information for cities\\n2. Checking currency exchange rates\\n3. Getting a random Pokemon\\nUse the available tools to help answer questions about these topics.\\nMaintain context across conversations within the same session.', 'messages': [SystemMessage(role='system', content='You are an assistant that can help with:\\n1. Getting weather information for cities\\n2. Checking currency exchange rates\\n3. Getting a random Pokemon\\nUse the available tools to help answer questions about these topics.\\nMaintain context across conversations within the same session.'), UserMessage(role='user', content=\"What's the weather like in London?\"), AIMessage(role='assistant', content=None, tool_calls=[ChatCompletionMessageToolCall(id='call_0Nj195qnSdtyy16iWfsJw7QE', function=Function(arguments='{\"city\":\"London\"}', name='get_weather'), type='function')]), ToolMessage(role='tool', content='\"{\\'coord\\': {\\'lon\\': -0.1257, \\'lat\\': 51.5085}, \\'weather\\': [{\\'id\\': 800, \\'main\\': \\'Clear\\', \\'description\\': \\'clear sky\\', \\'icon\\': \\'01d\\'}], \\'base\\': \\'stations\\', \\'main\\': {\\'temp\\': 23.23, \\'feels_like\\': 22.52, \\'temp_min\\': 21.86, \\'temp_max\\': 24.19, \\'pressure\\': 1028, \\'humidity\\': 35, \\'sea_level\\': 1028, \\'grnd_level\\': 1024}, \\'visibility\\': 10000, \\'wind\\': {\\'speed\\': 1.79, \\'deg\\': 201, \\'gust\\': 1.79}, \\'clouds\\': {\\'all\\': 1}, \\'dt\\': 1751543895, \\'sys\\': {\\'type\\': 2, \\'id\\': 268730, \\'country\\': \\'GB\\', \\'sunrise\\': 1751514540, \\'sunset\\': 1751574010}, \\'timezone\\': 3600, \\'id\\': 2643743, \\'name\\': \\'London\\', \\'cod\\': 200}\"', tool_call_id='call_0Nj195qnSdtyy16iWfsJw7QE', name='get_weather'), AIMessage(role='assistant', content=\"The current weather in London is clear with a temperature of 23.2°C. It feels like 22.5°C. The humidity is at 35%, and there is a light wind blowing at a speed of 1.8 m/s. Visibility is good at 10 kilometers. Overall, it's a pleasant day in London!\", tool_calls=None), UserMessage(role='user', content=\"What's the exchange rate from USD to EUR?\"), AIMessage(role='assistant', content=None, tool_calls=[ChatCompletionMessageToolCall(id='call_XLC1rOjoWjxanKmIncHHAppJ', function=Function(arguments='{\"from_currency\":\"USD\"}', name='get_exchange_rate'), type='function')]), ToolMessage(role='tool', content='\"{\\'result\\': \\'success\\', \\'documentation\\': \\'https://www.exchangerate-api.com/docs\\', \\'terms_of_use\\': \\'https://www.exchangerate-api.com/terms\\', \\'time_last_update_unix\\': 1751500801, \\'time_last_update_utc\\': \\'Thu, 03 Jul 2025 00:00:01 +0000\\', \\'time_next_update_unix\\': 1751587201, \\'time_next_update_utc\\': \\'Fri, 04 Jul 2025 00:00:01 +0000\\', \\'base_code\\': \\'USD\\', \\'conversion_rates\\': {\\'USD\\': 1, \\'AED\\': 3.6725, \\'AFN\\': 70.1226, \\'ALL\\': 83.1589, \\'AMD\\': 384.3955, \\'ANG\\': 1.79, \\'AOA\\': 920.8675, \\'ARS\\': 1231.33, \\'AUD\\': 1.5206, \\'AWG\\': 1.79, \\'AZN\\': 1.7, \\'BAM\\': 1.659, \\'BBD\\': 2.0, \\'BDT\\': 122.3572, \\'BGN\\': 1.6595, \\'BHD\\': 0.376, \\'BIF\\': 2980.0952, \\'BMD\\': 1.0, \\'BND\\': 1.2732, \\'BOB\\': 6.9185, \\'BRL\\': 5.4661, \\'BSD\\': 1.0, \\'BTN\\': 85.6716, \\'BWP\\': 13.288, \\'BYN\\': 3.1737, \\'BZD\\': 2.0, \\'CAD\\': 1.3613, \\'CDF\\': 2890.7969, \\'CHF\\': 0.7922, \\'CLP\\': 928.869, \\'CNY\\': 7.163, \\'COP\\': 4026.3146, \\'CRC\\': 505.1162, \\'CUP\\': 24.0, \\'CVE\\': 93.5311, \\'CZK\\': 20.9274, \\'DJF\\': 177.721, \\'DKK\\': 6.3263, \\'DOP\\': 59.4307, \\'DZD\\': 129.4077, \\'EGP\\': 49.3503, \\'ERN\\': 15.0, \\'ETB\\': 136.8003, \\'EUR\\': 0.8482, \\'FJD\\': 2.2377, \\'FKP\\': 0.7325, \\'FOK\\': 6.3267, \\'GBP\\': 0.7325, \\'GEL\\': 2.7185, \\'GGP\\': 0.7325, \\'GHS\\': 10.5924, \\'GIP\\': 0.7325, \\'GMD\\': 72.7206, \\'GNF\\': 8678.8601, \\'GTQ\\': 7.6872, \\'GYD\\': 209.075, \\'HKD\\': 7.85, \\'HNL\\': 26.1385, \\'HRK\\': 6.3911, \\'HTG\\': 131.1062, \\'HUF\\': 339.0857, \\'IDR\\': 16223.4715, \\'ILS\\': 3.3753, \\'IMP\\': 0.7325, \\'INR\\': 85.6718, \\'IQD\\': 1308.3586, \\'IRR\\': 42249.8402, \\'ISK\\': 121.3513, \\'JEP\\': 0.7325, \\'JMD\\': 159.8143, \\'JOD\\': 0.709, \\'JPY\\': 143.6699, \\'KES\\': 129.2244, \\'KGS\\': 87.2939, \\'KHR\\': 4011.0187, \\'KID\\': 1.5205, \\'KMF\\': 417.3064, \\'KRW\\': 1356.9612, \\'KWD\\': 0.3052, \\'KYD\\': 0.8333, \\'KZT\\': 518.7593, \\'LAK\\': 21621.7367, \\'LBP\\': 89500.0, \\'LKR\\': 299.755, \\'LRD\\': 200.4703, \\'LSL\\': 17.5854, \\'LYD\\': 5.3818, \\'MAD\\': 8.9751, \\'MDL\\': 16.7896, \\'MGA\\': 4399.7313, \\'MKD\\': 52.1587, \\'MMK\\': 2099.7875, \\'MNT\\': 3573.2063, \\'MOP\\': 8.0857, \\'MRU\\': 39.8629, \\'MUR\\': 44.8491, \\'MVR\\': 15.4495, \\'MWK\\': 1738.1223, \\'MXN\\': 18.7709, \\'MYR\\': 4.2265, \\'MZN\\': 63.6845, \\'NAD\\': 17.5854, \\'NGN\\': 1530.3799, \\'NIO\\': 36.7865, \\'NOK\\': 10.0799, \\'NPR\\': 137.0745, \\'NZD\\': 1.6437, \\'OMR\\': 0.3845, \\'PAB\\': 1.0, \\'PEN\\': 3.5573, \\'PGK\\': 4.1155, \\'PHP\\': 56.3659, \\'PKR\\': 283.9313, \\'PLN\\': 3.612, \\'PYG\\': 7974.4088, \\'QAR\\': 3.64, \\'RON\\': 4.3053, \\'RSD\\': 99.3959, \\'RUB\\': 78.7217, \\'RWF\\': 1442.4577, \\'SAR\\': 3.75, \\'SBD\\': 8.5056, \\'SCR\\': 14.5478, \\'SDG\\': 543.8155, \\'SEK\\': 9.5195, \\'SGD\\': 1.2732, \\'SHP\\': 0.7325, \\'SLE\\': 22.4264, \\'SLL\\': 22426.3818, \\'SOS\\': 571.287, \\'SRD\\': 37.543, \\'SSP\\': 4613.7786, \\'STN\\': 20.7819, \\'SYP\\': 13049.1182, \\'SZL\\': 17.5854, \\'THB\\': 32.4088, \\'TJS\\': 9.8413, \\'TMT\\': 3.4982, \\'TND\\': 2.8862, \\'TOP\\': 2.3609, \\'TRY\\': 39.8898, \\'TTD\\': 6.7772, \\'TVD\\': 1.5205, \\'TWD\\': 28.9066, \\'TZS\\': 2632.7383, \\'UAH\\': 41.8502, \\'UGX\\': 3584.7009, \\'UYU\\': 39.7101, \\'UZS\\': 12630.5321, \\'VES\\': 109.7724, \\'VND\\': 26055.8844, \\'VUV\\': 118.8854, \\'WST\\': 2.6826, \\'XAF\\': 556.4085, \\'XCD\\': 2.7, \\'XCG\\': 1.79, \\'XDR\\': 0.7265, \\'XOF\\': 556.4085, \\'XPF\\': 101.2221, \\'YER\\': 242.1455, \\'ZAR\\': 17.5855, \\'ZMW\\': 23.9946, \\'ZWL\\': 26.9529}}\"', tool_call_id='call_XLC1rOjoWjxanKmIncHHAppJ', name='get_exchange_rate'), AIMessage(role='assistant', content='The current exchange rate from USD to EUR is approximately 0.8482. This means that 1 US Dollar is equivalent to about 0.8482 Euros.', tool_calls=None)], 'current_tool_calls': None, 'session_id': 'external_tools'})\n",
      "\n",
      "\n",
      "Run('95ba2906-b684-4cd7-bc7f-7026a65bd1a8')\n",
      "-> Snapshot('db70d800-c652-4f26-bd50-a6807a3b21f0') @ [2025-07-03 09:09:57.093966]: __entry__.State({'user_query': 'Pick one random Pokemon!', 'instructions': 'You are an assistant that can help with:\\n1. Getting weather information for cities\\n2. Checking currency exchange rates\\n3. Getting a random Pokemon\\nUse the available tools to help answer questions about these topics.\\nMaintain context across conversations within the same session.', 'messages': [SystemMessage(role='system', content='You are an assistant that can help with:\\n1. Getting weather information for cities\\n2. Checking currency exchange rates\\n3. Getting a random Pokemon\\nUse the available tools to help answer questions about these topics.\\nMaintain context across conversations within the same session.'), UserMessage(role='user', content=\"What's the weather like in London?\"), AIMessage(role='assistant', content=None, tool_calls=[ChatCompletionMessageToolCall(id='call_0Nj195qnSdtyy16iWfsJw7QE', function=Function(arguments='{\"city\":\"London\"}', name='get_weather'), type='function')]), ToolMessage(role='tool', content='\"{\\'coord\\': {\\'lon\\': -0.1257, \\'lat\\': 51.5085}, \\'weather\\': [{\\'id\\': 800, \\'main\\': \\'Clear\\', \\'description\\': \\'clear sky\\', \\'icon\\': \\'01d\\'}], \\'base\\': \\'stations\\', \\'main\\': {\\'temp\\': 23.23, \\'feels_like\\': 22.52, \\'temp_min\\': 21.86, \\'temp_max\\': 24.19, \\'pressure\\': 1028, \\'humidity\\': 35, \\'sea_level\\': 1028, \\'grnd_level\\': 1024}, \\'visibility\\': 10000, \\'wind\\': {\\'speed\\': 1.79, \\'deg\\': 201, \\'gust\\': 1.79}, \\'clouds\\': {\\'all\\': 1}, \\'dt\\': 1751543895, \\'sys\\': {\\'type\\': 2, \\'id\\': 268730, \\'country\\': \\'GB\\', \\'sunrise\\': 1751514540, \\'sunset\\': 1751574010}, \\'timezone\\': 3600, \\'id\\': 2643743, \\'name\\': \\'London\\', \\'cod\\': 200}\"', tool_call_id='call_0Nj195qnSdtyy16iWfsJw7QE', name='get_weather'), AIMessage(role='assistant', content=\"The current weather in London is clear with a temperature of 23.2°C. It feels like 22.5°C. The humidity is at 35%, and there is a light wind blowing at a speed of 1.8 m/s. Visibility is good at 10 kilometers. Overall, it's a pleasant day in London!\", tool_calls=None), UserMessage(role='user', content=\"What's the exchange rate from USD to EUR?\"), AIMessage(role='assistant', content=None, tool_calls=[ChatCompletionMessageToolCall(id='call_XLC1rOjoWjxanKmIncHHAppJ', function=Function(arguments='{\"from_currency\":\"USD\"}', name='get_exchange_rate'), type='function')]), ToolMessage(role='tool', content='\"{\\'result\\': \\'success\\', \\'documentation\\': \\'https://www.exchangerate-api.com/docs\\', \\'terms_of_use\\': \\'https://www.exchangerate-api.com/terms\\', \\'time_last_update_unix\\': 1751500801, \\'time_last_update_utc\\': \\'Thu, 03 Jul 2025 00:00:01 +0000\\', \\'time_next_update_unix\\': 1751587201, \\'time_next_update_utc\\': \\'Fri, 04 Jul 2025 00:00:01 +0000\\', \\'base_code\\': \\'USD\\', \\'conversion_rates\\': {\\'USD\\': 1, \\'AED\\': 3.6725, \\'AFN\\': 70.1226, \\'ALL\\': 83.1589, \\'AMD\\': 384.3955, \\'ANG\\': 1.79, \\'AOA\\': 920.8675, \\'ARS\\': 1231.33, \\'AUD\\': 1.5206, \\'AWG\\': 1.79, \\'AZN\\': 1.7, \\'BAM\\': 1.659, \\'BBD\\': 2.0, \\'BDT\\': 122.3572, \\'BGN\\': 1.6595, \\'BHD\\': 0.376, \\'BIF\\': 2980.0952, \\'BMD\\': 1.0, \\'BND\\': 1.2732, \\'BOB\\': 6.9185, \\'BRL\\': 5.4661, \\'BSD\\': 1.0, \\'BTN\\': 85.6716, \\'BWP\\': 13.288, \\'BYN\\': 3.1737, \\'BZD\\': 2.0, \\'CAD\\': 1.3613, \\'CDF\\': 2890.7969, \\'CHF\\': 0.7922, \\'CLP\\': 928.869, \\'CNY\\': 7.163, \\'COP\\': 4026.3146, \\'CRC\\': 505.1162, \\'CUP\\': 24.0, \\'CVE\\': 93.5311, \\'CZK\\': 20.9274, \\'DJF\\': 177.721, \\'DKK\\': 6.3263, \\'DOP\\': 59.4307, \\'DZD\\': 129.4077, \\'EGP\\': 49.3503, \\'ERN\\': 15.0, \\'ETB\\': 136.8003, \\'EUR\\': 0.8482, \\'FJD\\': 2.2377, \\'FKP\\': 0.7325, \\'FOK\\': 6.3267, \\'GBP\\': 0.7325, \\'GEL\\': 2.7185, \\'GGP\\': 0.7325, \\'GHS\\': 10.5924, \\'GIP\\': 0.7325, \\'GMD\\': 72.7206, \\'GNF\\': 8678.8601, \\'GTQ\\': 7.6872, \\'GYD\\': 209.075, \\'HKD\\': 7.85, \\'HNL\\': 26.1385, \\'HRK\\': 6.3911, \\'HTG\\': 131.1062, \\'HUF\\': 339.0857, \\'IDR\\': 16223.4715, \\'ILS\\': 3.3753, \\'IMP\\': 0.7325, \\'INR\\': 85.6718, \\'IQD\\': 1308.3586, \\'IRR\\': 42249.8402, \\'ISK\\': 121.3513, \\'JEP\\': 0.7325, \\'JMD\\': 159.8143, \\'JOD\\': 0.709, \\'JPY\\': 143.6699, \\'KES\\': 129.2244, \\'KGS\\': 87.2939, \\'KHR\\': 4011.0187, \\'KID\\': 1.5205, \\'KMF\\': 417.3064, \\'KRW\\': 1356.9612, \\'KWD\\': 0.3052, \\'KYD\\': 0.8333, \\'KZT\\': 518.7593, \\'LAK\\': 21621.7367, \\'LBP\\': 89500.0, \\'LKR\\': 299.755, \\'LRD\\': 200.4703, \\'LSL\\': 17.5854, \\'LYD\\': 5.3818, \\'MAD\\': 8.9751, \\'MDL\\': 16.7896, \\'MGA\\': 4399.7313, \\'MKD\\': 52.1587, \\'MMK\\': 2099.7875, \\'MNT\\': 3573.2063, \\'MOP\\': 8.0857, \\'MRU\\': 39.8629, \\'MUR\\': 44.8491, \\'MVR\\': 15.4495, \\'MWK\\': 1738.1223, \\'MXN\\': 18.7709, \\'MYR\\': 4.2265, \\'MZN\\': 63.6845, \\'NAD\\': 17.5854, \\'NGN\\': 1530.3799, \\'NIO\\': 36.7865, \\'NOK\\': 10.0799, \\'NPR\\': 137.0745, \\'NZD\\': 1.6437, \\'OMR\\': 0.3845, \\'PAB\\': 1.0, \\'PEN\\': 3.5573, \\'PGK\\': 4.1155, \\'PHP\\': 56.3659, \\'PKR\\': 283.9313, \\'PLN\\': 3.612, \\'PYG\\': 7974.4088, \\'QAR\\': 3.64, \\'RON\\': 4.3053, \\'RSD\\': 99.3959, \\'RUB\\': 78.7217, \\'RWF\\': 1442.4577, \\'SAR\\': 3.75, \\'SBD\\': 8.5056, \\'SCR\\': 14.5478, \\'SDG\\': 543.8155, \\'SEK\\': 9.5195, \\'SGD\\': 1.2732, \\'SHP\\': 0.7325, \\'SLE\\': 22.4264, \\'SLL\\': 22426.3818, \\'SOS\\': 571.287, \\'SRD\\': 37.543, \\'SSP\\': 4613.7786, \\'STN\\': 20.7819, \\'SYP\\': 13049.1182, \\'SZL\\': 17.5854, \\'THB\\': 32.4088, \\'TJS\\': 9.8413, \\'TMT\\': 3.4982, \\'TND\\': 2.8862, \\'TOP\\': 2.3609, \\'TRY\\': 39.8898, \\'TTD\\': 6.7772, \\'TVD\\': 1.5205, \\'TWD\\': 28.9066, \\'TZS\\': 2632.7383, \\'UAH\\': 41.8502, \\'UGX\\': 3584.7009, \\'UYU\\': 39.7101, \\'UZS\\': 12630.5321, \\'VES\\': 109.7724, \\'VND\\': 26055.8844, \\'VUV\\': 118.8854, \\'WST\\': 2.6826, \\'XAF\\': 556.4085, \\'XCD\\': 2.7, \\'XCG\\': 1.79, \\'XDR\\': 0.7265, \\'XOF\\': 556.4085, \\'XPF\\': 101.2221, \\'YER\\': 242.1455, \\'ZAR\\': 17.5855, \\'ZMW\\': 23.9946, \\'ZWL\\': 26.9529}}\"', tool_call_id='call_XLC1rOjoWjxanKmIncHHAppJ', name='get_exchange_rate'), AIMessage(role='assistant', content='The current exchange rate from USD to EUR is approximately 0.8482. This means that 1 US Dollar is equivalent to about 0.8482 Euros.', tool_calls=None)], 'current_tool_calls': None, 'session_id': 'external_tools'})\n",
      "-> Snapshot('6e02933b-9f1d-4451-aacd-dae7ca589d75') @ [2025-07-03 09:09:57.094210]: message_prep.State({'user_query': 'Pick one random Pokemon!', 'instructions': 'You are an assistant that can help with:\\n1. Getting weather information for cities\\n2. Checking currency exchange rates\\n3. Getting a random Pokemon\\nUse the available tools to help answer questions about these topics.\\nMaintain context across conversations within the same session.', 'messages': [SystemMessage(role='system', content='You are an assistant that can help with:\\n1. Getting weather information for cities\\n2. Checking currency exchange rates\\n3. Getting a random Pokemon\\nUse the available tools to help answer questions about these topics.\\nMaintain context across conversations within the same session.'), UserMessage(role='user', content=\"What's the weather like in London?\"), AIMessage(role='assistant', content=None, tool_calls=[ChatCompletionMessageToolCall(id='call_0Nj195qnSdtyy16iWfsJw7QE', function=Function(arguments='{\"city\":\"London\"}', name='get_weather'), type='function')]), ToolMessage(role='tool', content='\"{\\'coord\\': {\\'lon\\': -0.1257, \\'lat\\': 51.5085}, \\'weather\\': [{\\'id\\': 800, \\'main\\': \\'Clear\\', \\'description\\': \\'clear sky\\', \\'icon\\': \\'01d\\'}], \\'base\\': \\'stations\\', \\'main\\': {\\'temp\\': 23.23, \\'feels_like\\': 22.52, \\'temp_min\\': 21.86, \\'temp_max\\': 24.19, \\'pressure\\': 1028, \\'humidity\\': 35, \\'sea_level\\': 1028, \\'grnd_level\\': 1024}, \\'visibility\\': 10000, \\'wind\\': {\\'speed\\': 1.79, \\'deg\\': 201, \\'gust\\': 1.79}, \\'clouds\\': {\\'all\\': 1}, \\'dt\\': 1751543895, \\'sys\\': {\\'type\\': 2, \\'id\\': 268730, \\'country\\': \\'GB\\', \\'sunrise\\': 1751514540, \\'sunset\\': 1751574010}, \\'timezone\\': 3600, \\'id\\': 2643743, \\'name\\': \\'London\\', \\'cod\\': 200}\"', tool_call_id='call_0Nj195qnSdtyy16iWfsJw7QE', name='get_weather'), AIMessage(role='assistant', content=\"The current weather in London is clear with a temperature of 23.2°C. It feels like 22.5°C. The humidity is at 35%, and there is a light wind blowing at a speed of 1.8 m/s. Visibility is good at 10 kilometers. Overall, it's a pleasant day in London!\", tool_calls=None), UserMessage(role='user', content=\"What's the exchange rate from USD to EUR?\"), AIMessage(role='assistant', content=None, tool_calls=[ChatCompletionMessageToolCall(id='call_XLC1rOjoWjxanKmIncHHAppJ', function=Function(arguments='{\"from_currency\":\"USD\"}', name='get_exchange_rate'), type='function')]), ToolMessage(role='tool', content='\"{\\'result\\': \\'success\\', \\'documentation\\': \\'https://www.exchangerate-api.com/docs\\', \\'terms_of_use\\': \\'https://www.exchangerate-api.com/terms\\', \\'time_last_update_unix\\': 1751500801, \\'time_last_update_utc\\': \\'Thu, 03 Jul 2025 00:00:01 +0000\\', \\'time_next_update_unix\\': 1751587201, \\'time_next_update_utc\\': \\'Fri, 04 Jul 2025 00:00:01 +0000\\', \\'base_code\\': \\'USD\\', \\'conversion_rates\\': {\\'USD\\': 1, \\'AED\\': 3.6725, \\'AFN\\': 70.1226, \\'ALL\\': 83.1589, \\'AMD\\': 384.3955, \\'ANG\\': 1.79, \\'AOA\\': 920.8675, \\'ARS\\': 1231.33, \\'AUD\\': 1.5206, \\'AWG\\': 1.79, \\'AZN\\': 1.7, \\'BAM\\': 1.659, \\'BBD\\': 2.0, \\'BDT\\': 122.3572, \\'BGN\\': 1.6595, \\'BHD\\': 0.376, \\'BIF\\': 2980.0952, \\'BMD\\': 1.0, \\'BND\\': 1.2732, \\'BOB\\': 6.9185, \\'BRL\\': 5.4661, \\'BSD\\': 1.0, \\'BTN\\': 85.6716, \\'BWP\\': 13.288, \\'BYN\\': 3.1737, \\'BZD\\': 2.0, \\'CAD\\': 1.3613, \\'CDF\\': 2890.7969, \\'CHF\\': 0.7922, \\'CLP\\': 928.869, \\'CNY\\': 7.163, \\'COP\\': 4026.3146, \\'CRC\\': 505.1162, \\'CUP\\': 24.0, \\'CVE\\': 93.5311, \\'CZK\\': 20.9274, \\'DJF\\': 177.721, \\'DKK\\': 6.3263, \\'DOP\\': 59.4307, \\'DZD\\': 129.4077, \\'EGP\\': 49.3503, \\'ERN\\': 15.0, \\'ETB\\': 136.8003, \\'EUR\\': 0.8482, \\'FJD\\': 2.2377, \\'FKP\\': 0.7325, \\'FOK\\': 6.3267, \\'GBP\\': 0.7325, \\'GEL\\': 2.7185, \\'GGP\\': 0.7325, \\'GHS\\': 10.5924, \\'GIP\\': 0.7325, \\'GMD\\': 72.7206, \\'GNF\\': 8678.8601, \\'GTQ\\': 7.6872, \\'GYD\\': 209.075, \\'HKD\\': 7.85, \\'HNL\\': 26.1385, \\'HRK\\': 6.3911, \\'HTG\\': 131.1062, \\'HUF\\': 339.0857, \\'IDR\\': 16223.4715, \\'ILS\\': 3.3753, \\'IMP\\': 0.7325, \\'INR\\': 85.6718, \\'IQD\\': 1308.3586, \\'IRR\\': 42249.8402, \\'ISK\\': 121.3513, \\'JEP\\': 0.7325, \\'JMD\\': 159.8143, \\'JOD\\': 0.709, \\'JPY\\': 143.6699, \\'KES\\': 129.2244, \\'KGS\\': 87.2939, \\'KHR\\': 4011.0187, \\'KID\\': 1.5205, \\'KMF\\': 417.3064, \\'KRW\\': 1356.9612, \\'KWD\\': 0.3052, \\'KYD\\': 0.8333, \\'KZT\\': 518.7593, \\'LAK\\': 21621.7367, \\'LBP\\': 89500.0, \\'LKR\\': 299.755, \\'LRD\\': 200.4703, \\'LSL\\': 17.5854, \\'LYD\\': 5.3818, \\'MAD\\': 8.9751, \\'MDL\\': 16.7896, \\'MGA\\': 4399.7313, \\'MKD\\': 52.1587, \\'MMK\\': 2099.7875, \\'MNT\\': 3573.2063, \\'MOP\\': 8.0857, \\'MRU\\': 39.8629, \\'MUR\\': 44.8491, \\'MVR\\': 15.4495, \\'MWK\\': 1738.1223, \\'MXN\\': 18.7709, \\'MYR\\': 4.2265, \\'MZN\\': 63.6845, \\'NAD\\': 17.5854, \\'NGN\\': 1530.3799, \\'NIO\\': 36.7865, \\'NOK\\': 10.0799, \\'NPR\\': 137.0745, \\'NZD\\': 1.6437, \\'OMR\\': 0.3845, \\'PAB\\': 1.0, \\'PEN\\': 3.5573, \\'PGK\\': 4.1155, \\'PHP\\': 56.3659, \\'PKR\\': 283.9313, \\'PLN\\': 3.612, \\'PYG\\': 7974.4088, \\'QAR\\': 3.64, \\'RON\\': 4.3053, \\'RSD\\': 99.3959, \\'RUB\\': 78.7217, \\'RWF\\': 1442.4577, \\'SAR\\': 3.75, \\'SBD\\': 8.5056, \\'SCR\\': 14.5478, \\'SDG\\': 543.8155, \\'SEK\\': 9.5195, \\'SGD\\': 1.2732, \\'SHP\\': 0.7325, \\'SLE\\': 22.4264, \\'SLL\\': 22426.3818, \\'SOS\\': 571.287, \\'SRD\\': 37.543, \\'SSP\\': 4613.7786, \\'STN\\': 20.7819, \\'SYP\\': 13049.1182, \\'SZL\\': 17.5854, \\'THB\\': 32.4088, \\'TJS\\': 9.8413, \\'TMT\\': 3.4982, \\'TND\\': 2.8862, \\'TOP\\': 2.3609, \\'TRY\\': 39.8898, \\'TTD\\': 6.7772, \\'TVD\\': 1.5205, \\'TWD\\': 28.9066, \\'TZS\\': 2632.7383, \\'UAH\\': 41.8502, \\'UGX\\': 3584.7009, \\'UYU\\': 39.7101, \\'UZS\\': 12630.5321, \\'VES\\': 109.7724, \\'VND\\': 26055.8844, \\'VUV\\': 118.8854, \\'WST\\': 2.6826, \\'XAF\\': 556.4085, \\'XCD\\': 2.7, \\'XCG\\': 1.79, \\'XDR\\': 0.7265, \\'XOF\\': 556.4085, \\'XPF\\': 101.2221, \\'YER\\': 242.1455, \\'ZAR\\': 17.5855, \\'ZMW\\': 23.9946, \\'ZWL\\': 26.9529}}\"', tool_call_id='call_XLC1rOjoWjxanKmIncHHAppJ', name='get_exchange_rate'), AIMessage(role='assistant', content='The current exchange rate from USD to EUR is approximately 0.8482. This means that 1 US Dollar is equivalent to about 0.8482 Euros.', tool_calls=None), UserMessage(role='user', content='Pick one random Pokemon!')], 'current_tool_calls': None, 'session_id': 'external_tools'})\n",
      "-> Snapshot('3fe9933a-636b-456d-aadb-269a72808a66') @ [2025-07-03 09:09:59.049275]: llm_processor.State({'user_query': 'Pick one random Pokemon!', 'instructions': 'You are an assistant that can help with:\\n1. Getting weather information for cities\\n2. Checking currency exchange rates\\n3. Getting a random Pokemon\\nUse the available tools to help answer questions about these topics.\\nMaintain context across conversations within the same session.', 'messages': [SystemMessage(role='system', content='You are an assistant that can help with:\\n1. Getting weather information for cities\\n2. Checking currency exchange rates\\n3. Getting a random Pokemon\\nUse the available tools to help answer questions about these topics.\\nMaintain context across conversations within the same session.'), UserMessage(role='user', content=\"What's the weather like in London?\"), AIMessage(role='assistant', content=None, tool_calls=[ChatCompletionMessageToolCall(id='call_0Nj195qnSdtyy16iWfsJw7QE', function=Function(arguments='{\"city\":\"London\"}', name='get_weather'), type='function')]), ToolMessage(role='tool', content='\"{\\'coord\\': {\\'lon\\': -0.1257, \\'lat\\': 51.5085}, \\'weather\\': [{\\'id\\': 800, \\'main\\': \\'Clear\\', \\'description\\': \\'clear sky\\', \\'icon\\': \\'01d\\'}], \\'base\\': \\'stations\\', \\'main\\': {\\'temp\\': 23.23, \\'feels_like\\': 22.52, \\'temp_min\\': 21.86, \\'temp_max\\': 24.19, \\'pressure\\': 1028, \\'humidity\\': 35, \\'sea_level\\': 1028, \\'grnd_level\\': 1024}, \\'visibility\\': 10000, \\'wind\\': {\\'speed\\': 1.79, \\'deg\\': 201, \\'gust\\': 1.79}, \\'clouds\\': {\\'all\\': 1}, \\'dt\\': 1751543895, \\'sys\\': {\\'type\\': 2, \\'id\\': 268730, \\'country\\': \\'GB\\', \\'sunrise\\': 1751514540, \\'sunset\\': 1751574010}, \\'timezone\\': 3600, \\'id\\': 2643743, \\'name\\': \\'London\\', \\'cod\\': 200}\"', tool_call_id='call_0Nj195qnSdtyy16iWfsJw7QE', name='get_weather'), AIMessage(role='assistant', content=\"The current weather in London is clear with a temperature of 23.2°C. It feels like 22.5°C. The humidity is at 35%, and there is a light wind blowing at a speed of 1.8 m/s. Visibility is good at 10 kilometers. Overall, it's a pleasant day in London!\", tool_calls=None), UserMessage(role='user', content=\"What's the exchange rate from USD to EUR?\"), AIMessage(role='assistant', content=None, tool_calls=[ChatCompletionMessageToolCall(id='call_XLC1rOjoWjxanKmIncHHAppJ', function=Function(arguments='{\"from_currency\":\"USD\"}', name='get_exchange_rate'), type='function')]), ToolMessage(role='tool', content='\"{\\'result\\': \\'success\\', \\'documentation\\': \\'https://www.exchangerate-api.com/docs\\', \\'terms_of_use\\': \\'https://www.exchangerate-api.com/terms\\', \\'time_last_update_unix\\': 1751500801, \\'time_last_update_utc\\': \\'Thu, 03 Jul 2025 00:00:01 +0000\\', \\'time_next_update_unix\\': 1751587201, \\'time_next_update_utc\\': \\'Fri, 04 Jul 2025 00:00:01 +0000\\', \\'base_code\\': \\'USD\\', \\'conversion_rates\\': {\\'USD\\': 1, \\'AED\\': 3.6725, \\'AFN\\': 70.1226, \\'ALL\\': 83.1589, \\'AMD\\': 384.3955, \\'ANG\\': 1.79, \\'AOA\\': 920.8675, \\'ARS\\': 1231.33, \\'AUD\\': 1.5206, \\'AWG\\': 1.79, \\'AZN\\': 1.7, \\'BAM\\': 1.659, \\'BBD\\': 2.0, \\'BDT\\': 122.3572, \\'BGN\\': 1.6595, \\'BHD\\': 0.376, \\'BIF\\': 2980.0952, \\'BMD\\': 1.0, \\'BND\\': 1.2732, \\'BOB\\': 6.9185, \\'BRL\\': 5.4661, \\'BSD\\': 1.0, \\'BTN\\': 85.6716, \\'BWP\\': 13.288, \\'BYN\\': 3.1737, \\'BZD\\': 2.0, \\'CAD\\': 1.3613, \\'CDF\\': 2890.7969, \\'CHF\\': 0.7922, \\'CLP\\': 928.869, \\'CNY\\': 7.163, \\'COP\\': 4026.3146, \\'CRC\\': 505.1162, \\'CUP\\': 24.0, \\'CVE\\': 93.5311, \\'CZK\\': 20.9274, \\'DJF\\': 177.721, \\'DKK\\': 6.3263, \\'DOP\\': 59.4307, \\'DZD\\': 129.4077, \\'EGP\\': 49.3503, \\'ERN\\': 15.0, \\'ETB\\': 136.8003, \\'EUR\\': 0.8482, \\'FJD\\': 2.2377, \\'FKP\\': 0.7325, \\'FOK\\': 6.3267, \\'GBP\\': 0.7325, \\'GEL\\': 2.7185, \\'GGP\\': 0.7325, \\'GHS\\': 10.5924, \\'GIP\\': 0.7325, \\'GMD\\': 72.7206, \\'GNF\\': 8678.8601, \\'GTQ\\': 7.6872, \\'GYD\\': 209.075, \\'HKD\\': 7.85, \\'HNL\\': 26.1385, \\'HRK\\': 6.3911, \\'HTG\\': 131.1062, \\'HUF\\': 339.0857, \\'IDR\\': 16223.4715, \\'ILS\\': 3.3753, \\'IMP\\': 0.7325, \\'INR\\': 85.6718, \\'IQD\\': 1308.3586, \\'IRR\\': 42249.8402, \\'ISK\\': 121.3513, \\'JEP\\': 0.7325, \\'JMD\\': 159.8143, \\'JOD\\': 0.709, \\'JPY\\': 143.6699, \\'KES\\': 129.2244, \\'KGS\\': 87.2939, \\'KHR\\': 4011.0187, \\'KID\\': 1.5205, \\'KMF\\': 417.3064, \\'KRW\\': 1356.9612, \\'KWD\\': 0.3052, \\'KYD\\': 0.8333, \\'KZT\\': 518.7593, \\'LAK\\': 21621.7367, \\'LBP\\': 89500.0, \\'LKR\\': 299.755, \\'LRD\\': 200.4703, \\'LSL\\': 17.5854, \\'LYD\\': 5.3818, \\'MAD\\': 8.9751, \\'MDL\\': 16.7896, \\'MGA\\': 4399.7313, \\'MKD\\': 52.1587, \\'MMK\\': 2099.7875, \\'MNT\\': 3573.2063, \\'MOP\\': 8.0857, \\'MRU\\': 39.8629, \\'MUR\\': 44.8491, \\'MVR\\': 15.4495, \\'MWK\\': 1738.1223, \\'MXN\\': 18.7709, \\'MYR\\': 4.2265, \\'MZN\\': 63.6845, \\'NAD\\': 17.5854, \\'NGN\\': 1530.3799, \\'NIO\\': 36.7865, \\'NOK\\': 10.0799, \\'NPR\\': 137.0745, \\'NZD\\': 1.6437, \\'OMR\\': 0.3845, \\'PAB\\': 1.0, \\'PEN\\': 3.5573, \\'PGK\\': 4.1155, \\'PHP\\': 56.3659, \\'PKR\\': 283.9313, \\'PLN\\': 3.612, \\'PYG\\': 7974.4088, \\'QAR\\': 3.64, \\'RON\\': 4.3053, \\'RSD\\': 99.3959, \\'RUB\\': 78.7217, \\'RWF\\': 1442.4577, \\'SAR\\': 3.75, \\'SBD\\': 8.5056, \\'SCR\\': 14.5478, \\'SDG\\': 543.8155, \\'SEK\\': 9.5195, \\'SGD\\': 1.2732, \\'SHP\\': 0.7325, \\'SLE\\': 22.4264, \\'SLL\\': 22426.3818, \\'SOS\\': 571.287, \\'SRD\\': 37.543, \\'SSP\\': 4613.7786, \\'STN\\': 20.7819, \\'SYP\\': 13049.1182, \\'SZL\\': 17.5854, \\'THB\\': 32.4088, \\'TJS\\': 9.8413, \\'TMT\\': 3.4982, \\'TND\\': 2.8862, \\'TOP\\': 2.3609, \\'TRY\\': 39.8898, \\'TTD\\': 6.7772, \\'TVD\\': 1.5205, \\'TWD\\': 28.9066, \\'TZS\\': 2632.7383, \\'UAH\\': 41.8502, \\'UGX\\': 3584.7009, \\'UYU\\': 39.7101, \\'UZS\\': 12630.5321, \\'VES\\': 109.7724, \\'VND\\': 26055.8844, \\'VUV\\': 118.8854, \\'WST\\': 2.6826, \\'XAF\\': 556.4085, \\'XCD\\': 2.7, \\'XCG\\': 1.79, \\'XDR\\': 0.7265, \\'XOF\\': 556.4085, \\'XPF\\': 101.2221, \\'YER\\': 242.1455, \\'ZAR\\': 17.5855, \\'ZMW\\': 23.9946, \\'ZWL\\': 26.9529}}\"', tool_call_id='call_XLC1rOjoWjxanKmIncHHAppJ', name='get_exchange_rate'), AIMessage(role='assistant', content='The current exchange rate from USD to EUR is approximately 0.8482. This means that 1 US Dollar is equivalent to about 0.8482 Euros.', tool_calls=None), UserMessage(role='user', content='Pick one random Pokemon!'), AIMessage(role='assistant', content=None, tool_calls=[ChatCompletionMessageToolCall(id='call_TMnwdQh2OiuIiY6ma1R6NXW5', function=Function(arguments='{}', name='get_random_pokemon'), type='function')])], 'current_tool_calls': [ChatCompletionMessageToolCall(id='call_TMnwdQh2OiuIiY6ma1R6NXW5', function=Function(arguments='{}', name='get_random_pokemon'), type='function')], 'session_id': 'external_tools'})\n",
      "-> Snapshot('85c8067d-63fc-48ee-8f64-45cef76958bf') @ [2025-07-03 09:09:59.434651]: tool_executor.State({'user_query': 'Pick one random Pokemon!', 'instructions': 'You are an assistant that can help with:\\n1. Getting weather information for cities\\n2. Checking currency exchange rates\\n3. Getting a random Pokemon\\nUse the available tools to help answer questions about these topics.\\nMaintain context across conversations within the same session.', 'messages': [SystemMessage(role='system', content='You are an assistant that can help with:\\n1. Getting weather information for cities\\n2. Checking currency exchange rates\\n3. Getting a random Pokemon\\nUse the available tools to help answer questions about these topics.\\nMaintain context across conversations within the same session.'), UserMessage(role='user', content=\"What's the weather like in London?\"), AIMessage(role='assistant', content=None, tool_calls=[ChatCompletionMessageToolCall(id='call_0Nj195qnSdtyy16iWfsJw7QE', function=Function(arguments='{\"city\":\"London\"}', name='get_weather'), type='function')]), ToolMessage(role='tool', content='\"{\\'coord\\': {\\'lon\\': -0.1257, \\'lat\\': 51.5085}, \\'weather\\': [{\\'id\\': 800, \\'main\\': \\'Clear\\', \\'description\\': \\'clear sky\\', \\'icon\\': \\'01d\\'}], \\'base\\': \\'stations\\', \\'main\\': {\\'temp\\': 23.23, \\'feels_like\\': 22.52, \\'temp_min\\': 21.86, \\'temp_max\\': 24.19, \\'pressure\\': 1028, \\'humidity\\': 35, \\'sea_level\\': 1028, \\'grnd_level\\': 1024}, \\'visibility\\': 10000, \\'wind\\': {\\'speed\\': 1.79, \\'deg\\': 201, \\'gust\\': 1.79}, \\'clouds\\': {\\'all\\': 1}, \\'dt\\': 1751543895, \\'sys\\': {\\'type\\': 2, \\'id\\': 268730, \\'country\\': \\'GB\\', \\'sunrise\\': 1751514540, \\'sunset\\': 1751574010}, \\'timezone\\': 3600, \\'id\\': 2643743, \\'name\\': \\'London\\', \\'cod\\': 200}\"', tool_call_id='call_0Nj195qnSdtyy16iWfsJw7QE', name='get_weather'), AIMessage(role='assistant', content=\"The current weather in London is clear with a temperature of 23.2°C. It feels like 22.5°C. The humidity is at 35%, and there is a light wind blowing at a speed of 1.8 m/s. Visibility is good at 10 kilometers. Overall, it's a pleasant day in London!\", tool_calls=None), UserMessage(role='user', content=\"What's the exchange rate from USD to EUR?\"), AIMessage(role='assistant', content=None, tool_calls=[ChatCompletionMessageToolCall(id='call_XLC1rOjoWjxanKmIncHHAppJ', function=Function(arguments='{\"from_currency\":\"USD\"}', name='get_exchange_rate'), type='function')]), ToolMessage(role='tool', content='\"{\\'result\\': \\'success\\', \\'documentation\\': \\'https://www.exchangerate-api.com/docs\\', \\'terms_of_use\\': \\'https://www.exchangerate-api.com/terms\\', \\'time_last_update_unix\\': 1751500801, \\'time_last_update_utc\\': \\'Thu, 03 Jul 2025 00:00:01 +0000\\', \\'time_next_update_unix\\': 1751587201, \\'time_next_update_utc\\': \\'Fri, 04 Jul 2025 00:00:01 +0000\\', \\'base_code\\': \\'USD\\', \\'conversion_rates\\': {\\'USD\\': 1, \\'AED\\': 3.6725, \\'AFN\\': 70.1226, \\'ALL\\': 83.1589, \\'AMD\\': 384.3955, \\'ANG\\': 1.79, \\'AOA\\': 920.8675, \\'ARS\\': 1231.33, \\'AUD\\': 1.5206, \\'AWG\\': 1.79, \\'AZN\\': 1.7, \\'BAM\\': 1.659, \\'BBD\\': 2.0, \\'BDT\\': 122.3572, \\'BGN\\': 1.6595, \\'BHD\\': 0.376, \\'BIF\\': 2980.0952, \\'BMD\\': 1.0, \\'BND\\': 1.2732, \\'BOB\\': 6.9185, \\'BRL\\': 5.4661, \\'BSD\\': 1.0, \\'BTN\\': 85.6716, \\'BWP\\': 13.288, \\'BYN\\': 3.1737, \\'BZD\\': 2.0, \\'CAD\\': 1.3613, \\'CDF\\': 2890.7969, \\'CHF\\': 0.7922, \\'CLP\\': 928.869, \\'CNY\\': 7.163, \\'COP\\': 4026.3146, \\'CRC\\': 505.1162, \\'CUP\\': 24.0, \\'CVE\\': 93.5311, \\'CZK\\': 20.9274, \\'DJF\\': 177.721, \\'DKK\\': 6.3263, \\'DOP\\': 59.4307, \\'DZD\\': 129.4077, \\'EGP\\': 49.3503, \\'ERN\\': 15.0, \\'ETB\\': 136.8003, \\'EUR\\': 0.8482, \\'FJD\\': 2.2377, \\'FKP\\': 0.7325, \\'FOK\\': 6.3267, \\'GBP\\': 0.7325, \\'GEL\\': 2.7185, \\'GGP\\': 0.7325, \\'GHS\\': 10.5924, \\'GIP\\': 0.7325, \\'GMD\\': 72.7206, \\'GNF\\': 8678.8601, \\'GTQ\\': 7.6872, \\'GYD\\': 209.075, \\'HKD\\': 7.85, \\'HNL\\': 26.1385, \\'HRK\\': 6.3911, \\'HTG\\': 131.1062, \\'HUF\\': 339.0857, \\'IDR\\': 16223.4715, \\'ILS\\': 3.3753, \\'IMP\\': 0.7325, \\'INR\\': 85.6718, \\'IQD\\': 1308.3586, \\'IRR\\': 42249.8402, \\'ISK\\': 121.3513, \\'JEP\\': 0.7325, \\'JMD\\': 159.8143, \\'JOD\\': 0.709, \\'JPY\\': 143.6699, \\'KES\\': 129.2244, \\'KGS\\': 87.2939, \\'KHR\\': 4011.0187, \\'KID\\': 1.5205, \\'KMF\\': 417.3064, \\'KRW\\': 1356.9612, \\'KWD\\': 0.3052, \\'KYD\\': 0.8333, \\'KZT\\': 518.7593, \\'LAK\\': 21621.7367, \\'LBP\\': 89500.0, \\'LKR\\': 299.755, \\'LRD\\': 200.4703, \\'LSL\\': 17.5854, \\'LYD\\': 5.3818, \\'MAD\\': 8.9751, \\'MDL\\': 16.7896, \\'MGA\\': 4399.7313, \\'MKD\\': 52.1587, \\'MMK\\': 2099.7875, \\'MNT\\': 3573.2063, \\'MOP\\': 8.0857, \\'MRU\\': 39.8629, \\'MUR\\': 44.8491, \\'MVR\\': 15.4495, \\'MWK\\': 1738.1223, \\'MXN\\': 18.7709, \\'MYR\\': 4.2265, \\'MZN\\': 63.6845, \\'NAD\\': 17.5854, \\'NGN\\': 1530.3799, \\'NIO\\': 36.7865, \\'NOK\\': 10.0799, \\'NPR\\': 137.0745, \\'NZD\\': 1.6437, \\'OMR\\': 0.3845, \\'PAB\\': 1.0, \\'PEN\\': 3.5573, \\'PGK\\': 4.1155, \\'PHP\\': 56.3659, \\'PKR\\': 283.9313, \\'PLN\\': 3.612, \\'PYG\\': 7974.4088, \\'QAR\\': 3.64, \\'RON\\': 4.3053, \\'RSD\\': 99.3959, \\'RUB\\': 78.7217, \\'RWF\\': 1442.4577, \\'SAR\\': 3.75, \\'SBD\\': 8.5056, \\'SCR\\': 14.5478, \\'SDG\\': 543.8155, \\'SEK\\': 9.5195, \\'SGD\\': 1.2732, \\'SHP\\': 0.7325, \\'SLE\\': 22.4264, \\'SLL\\': 22426.3818, \\'SOS\\': 571.287, \\'SRD\\': 37.543, \\'SSP\\': 4613.7786, \\'STN\\': 20.7819, \\'SYP\\': 13049.1182, \\'SZL\\': 17.5854, \\'THB\\': 32.4088, \\'TJS\\': 9.8413, \\'TMT\\': 3.4982, \\'TND\\': 2.8862, \\'TOP\\': 2.3609, \\'TRY\\': 39.8898, \\'TTD\\': 6.7772, \\'TVD\\': 1.5205, \\'TWD\\': 28.9066, \\'TZS\\': 2632.7383, \\'UAH\\': 41.8502, \\'UGX\\': 3584.7009, \\'UYU\\': 39.7101, \\'UZS\\': 12630.5321, \\'VES\\': 109.7724, \\'VND\\': 26055.8844, \\'VUV\\': 118.8854, \\'WST\\': 2.6826, \\'XAF\\': 556.4085, \\'XCD\\': 2.7, \\'XCG\\': 1.79, \\'XDR\\': 0.7265, \\'XOF\\': 556.4085, \\'XPF\\': 101.2221, \\'YER\\': 242.1455, \\'ZAR\\': 17.5855, \\'ZMW\\': 23.9946, \\'ZWL\\': 26.9529}}\"', tool_call_id='call_XLC1rOjoWjxanKmIncHHAppJ', name='get_exchange_rate'), AIMessage(role='assistant', content='The current exchange rate from USD to EUR is approximately 0.8482. This means that 1 US Dollar is equivalent to about 0.8482 Euros.', tool_calls=None), UserMessage(role='user', content='Pick one random Pokemon!'), AIMessage(role='assistant', content=None, tool_calls=[ChatCompletionMessageToolCall(id='call_TMnwdQh2OiuIiY6ma1R6NXW5', function=Function(arguments='{}', name='get_random_pokemon'), type='function')]), ToolMessage(role='tool', content='\"{\\'name\\': \\'staryu\\', \\'url\\': \\'https://pokeapi.co/api/v2/pokemon/120/\\'}\"', tool_call_id='call_TMnwdQh2OiuIiY6ma1R6NXW5', name='get_random_pokemon')], 'current_tool_calls': None, 'session_id': 'external_tools'})\n",
      "-> Snapshot('66f3d2da-7323-4b85-a12c-4dfe01f1d789') @ [2025-07-03 09:10:01.670927]: llm_processor.State({'user_query': 'Pick one random Pokemon!', 'instructions': 'You are an assistant that can help with:\\n1. Getting weather information for cities\\n2. Checking currency exchange rates\\n3. Getting a random Pokemon\\nUse the available tools to help answer questions about these topics.\\nMaintain context across conversations within the same session.', 'messages': [SystemMessage(role='system', content='You are an assistant that can help with:\\n1. Getting weather information for cities\\n2. Checking currency exchange rates\\n3. Getting a random Pokemon\\nUse the available tools to help answer questions about these topics.\\nMaintain context across conversations within the same session.'), UserMessage(role='user', content=\"What's the weather like in London?\"), AIMessage(role='assistant', content=None, tool_calls=[ChatCompletionMessageToolCall(id='call_0Nj195qnSdtyy16iWfsJw7QE', function=Function(arguments='{\"city\":\"London\"}', name='get_weather'), type='function')]), ToolMessage(role='tool', content='\"{\\'coord\\': {\\'lon\\': -0.1257, \\'lat\\': 51.5085}, \\'weather\\': [{\\'id\\': 800, \\'main\\': \\'Clear\\', \\'description\\': \\'clear sky\\', \\'icon\\': \\'01d\\'}], \\'base\\': \\'stations\\', \\'main\\': {\\'temp\\': 23.23, \\'feels_like\\': 22.52, \\'temp_min\\': 21.86, \\'temp_max\\': 24.19, \\'pressure\\': 1028, \\'humidity\\': 35, \\'sea_level\\': 1028, \\'grnd_level\\': 1024}, \\'visibility\\': 10000, \\'wind\\': {\\'speed\\': 1.79, \\'deg\\': 201, \\'gust\\': 1.79}, \\'clouds\\': {\\'all\\': 1}, \\'dt\\': 1751543895, \\'sys\\': {\\'type\\': 2, \\'id\\': 268730, \\'country\\': \\'GB\\', \\'sunrise\\': 1751514540, \\'sunset\\': 1751574010}, \\'timezone\\': 3600, \\'id\\': 2643743, \\'name\\': \\'London\\', \\'cod\\': 200}\"', tool_call_id='call_0Nj195qnSdtyy16iWfsJw7QE', name='get_weather'), AIMessage(role='assistant', content=\"The current weather in London is clear with a temperature of 23.2°C. It feels like 22.5°C. The humidity is at 35%, and there is a light wind blowing at a speed of 1.8 m/s. Visibility is good at 10 kilometers. Overall, it's a pleasant day in London!\", tool_calls=None), UserMessage(role='user', content=\"What's the exchange rate from USD to EUR?\"), AIMessage(role='assistant', content=None, tool_calls=[ChatCompletionMessageToolCall(id='call_XLC1rOjoWjxanKmIncHHAppJ', function=Function(arguments='{\"from_currency\":\"USD\"}', name='get_exchange_rate'), type='function')]), ToolMessage(role='tool', content='\"{\\'result\\': \\'success\\', \\'documentation\\': \\'https://www.exchangerate-api.com/docs\\', \\'terms_of_use\\': \\'https://www.exchangerate-api.com/terms\\', \\'time_last_update_unix\\': 1751500801, \\'time_last_update_utc\\': \\'Thu, 03 Jul 2025 00:00:01 +0000\\', \\'time_next_update_unix\\': 1751587201, \\'time_next_update_utc\\': \\'Fri, 04 Jul 2025 00:00:01 +0000\\', \\'base_code\\': \\'USD\\', \\'conversion_rates\\': {\\'USD\\': 1, \\'AED\\': 3.6725, \\'AFN\\': 70.1226, \\'ALL\\': 83.1589, \\'AMD\\': 384.3955, \\'ANG\\': 1.79, \\'AOA\\': 920.8675, \\'ARS\\': 1231.33, \\'AUD\\': 1.5206, \\'AWG\\': 1.79, \\'AZN\\': 1.7, \\'BAM\\': 1.659, \\'BBD\\': 2.0, \\'BDT\\': 122.3572, \\'BGN\\': 1.6595, \\'BHD\\': 0.376, \\'BIF\\': 2980.0952, \\'BMD\\': 1.0, \\'BND\\': 1.2732, \\'BOB\\': 6.9185, \\'BRL\\': 5.4661, \\'BSD\\': 1.0, \\'BTN\\': 85.6716, \\'BWP\\': 13.288, \\'BYN\\': 3.1737, \\'BZD\\': 2.0, \\'CAD\\': 1.3613, \\'CDF\\': 2890.7969, \\'CHF\\': 0.7922, \\'CLP\\': 928.869, \\'CNY\\': 7.163, \\'COP\\': 4026.3146, \\'CRC\\': 505.1162, \\'CUP\\': 24.0, \\'CVE\\': 93.5311, \\'CZK\\': 20.9274, \\'DJF\\': 177.721, \\'DKK\\': 6.3263, \\'DOP\\': 59.4307, \\'DZD\\': 129.4077, \\'EGP\\': 49.3503, \\'ERN\\': 15.0, \\'ETB\\': 136.8003, \\'EUR\\': 0.8482, \\'FJD\\': 2.2377, \\'FKP\\': 0.7325, \\'FOK\\': 6.3267, \\'GBP\\': 0.7325, \\'GEL\\': 2.7185, \\'GGP\\': 0.7325, \\'GHS\\': 10.5924, \\'GIP\\': 0.7325, \\'GMD\\': 72.7206, \\'GNF\\': 8678.8601, \\'GTQ\\': 7.6872, \\'GYD\\': 209.075, \\'HKD\\': 7.85, \\'HNL\\': 26.1385, \\'HRK\\': 6.3911, \\'HTG\\': 131.1062, \\'HUF\\': 339.0857, \\'IDR\\': 16223.4715, \\'ILS\\': 3.3753, \\'IMP\\': 0.7325, \\'INR\\': 85.6718, \\'IQD\\': 1308.3586, \\'IRR\\': 42249.8402, \\'ISK\\': 121.3513, \\'JEP\\': 0.7325, \\'JMD\\': 159.8143, \\'JOD\\': 0.709, \\'JPY\\': 143.6699, \\'KES\\': 129.2244, \\'KGS\\': 87.2939, \\'KHR\\': 4011.0187, \\'KID\\': 1.5205, \\'KMF\\': 417.3064, \\'KRW\\': 1356.9612, \\'KWD\\': 0.3052, \\'KYD\\': 0.8333, \\'KZT\\': 518.7593, \\'LAK\\': 21621.7367, \\'LBP\\': 89500.0, \\'LKR\\': 299.755, \\'LRD\\': 200.4703, \\'LSL\\': 17.5854, \\'LYD\\': 5.3818, \\'MAD\\': 8.9751, \\'MDL\\': 16.7896, \\'MGA\\': 4399.7313, \\'MKD\\': 52.1587, \\'MMK\\': 2099.7875, \\'MNT\\': 3573.2063, \\'MOP\\': 8.0857, \\'MRU\\': 39.8629, \\'MUR\\': 44.8491, \\'MVR\\': 15.4495, \\'MWK\\': 1738.1223, \\'MXN\\': 18.7709, \\'MYR\\': 4.2265, \\'MZN\\': 63.6845, \\'NAD\\': 17.5854, \\'NGN\\': 1530.3799, \\'NIO\\': 36.7865, \\'NOK\\': 10.0799, \\'NPR\\': 137.0745, \\'NZD\\': 1.6437, \\'OMR\\': 0.3845, \\'PAB\\': 1.0, \\'PEN\\': 3.5573, \\'PGK\\': 4.1155, \\'PHP\\': 56.3659, \\'PKR\\': 283.9313, \\'PLN\\': 3.612, \\'PYG\\': 7974.4088, \\'QAR\\': 3.64, \\'RON\\': 4.3053, \\'RSD\\': 99.3959, \\'RUB\\': 78.7217, \\'RWF\\': 1442.4577, \\'SAR\\': 3.75, \\'SBD\\': 8.5056, \\'SCR\\': 14.5478, \\'SDG\\': 543.8155, \\'SEK\\': 9.5195, \\'SGD\\': 1.2732, \\'SHP\\': 0.7325, \\'SLE\\': 22.4264, \\'SLL\\': 22426.3818, \\'SOS\\': 571.287, \\'SRD\\': 37.543, \\'SSP\\': 4613.7786, \\'STN\\': 20.7819, \\'SYP\\': 13049.1182, \\'SZL\\': 17.5854, \\'THB\\': 32.4088, \\'TJS\\': 9.8413, \\'TMT\\': 3.4982, \\'TND\\': 2.8862, \\'TOP\\': 2.3609, \\'TRY\\': 39.8898, \\'TTD\\': 6.7772, \\'TVD\\': 1.5205, \\'TWD\\': 28.9066, \\'TZS\\': 2632.7383, \\'UAH\\': 41.8502, \\'UGX\\': 3584.7009, \\'UYU\\': 39.7101, \\'UZS\\': 12630.5321, \\'VES\\': 109.7724, \\'VND\\': 26055.8844, \\'VUV\\': 118.8854, \\'WST\\': 2.6826, \\'XAF\\': 556.4085, \\'XCD\\': 2.7, \\'XCG\\': 1.79, \\'XDR\\': 0.7265, \\'XOF\\': 556.4085, \\'XPF\\': 101.2221, \\'YER\\': 242.1455, \\'ZAR\\': 17.5855, \\'ZMW\\': 23.9946, \\'ZWL\\': 26.9529}}\"', tool_call_id='call_XLC1rOjoWjxanKmIncHHAppJ', name='get_exchange_rate'), AIMessage(role='assistant', content='The current exchange rate from USD to EUR is approximately 0.8482. This means that 1 US Dollar is equivalent to about 0.8482 Euros.', tool_calls=None), UserMessage(role='user', content='Pick one random Pokemon!'), AIMessage(role='assistant', content=None, tool_calls=[ChatCompletionMessageToolCall(id='call_TMnwdQh2OiuIiY6ma1R6NXW5', function=Function(arguments='{}', name='get_random_pokemon'), type='function')]), ToolMessage(role='tool', content='\"{\\'name\\': \\'staryu\\', \\'url\\': \\'https://pokeapi.co/api/v2/pokemon/120/\\'}\"', tool_call_id='call_TMnwdQh2OiuIiY6ma1R6NXW5', name='get_random_pokemon'), AIMessage(role='assistant', content='You got a random Pokémon: **Staryu**! \\n\\nYou can learn more about it [here](https://pokeapi.co/api/v2/pokemon/120/).', tool_calls=None)], 'current_tool_calls': None, 'session_id': 'external_tools'})\n",
      "\n",
      "\n"
     ]
    }
   ],
   "source": [
    "runs = agent.get_session_runs(session_id)\n",
    "for run_object in runs:\n",
    "    print(run_object)\n",
    "    for snp in run_object.snapshots:\n",
    "        print(f\"-> {snp}\")\n",
    "    print(\"\\n\")"
   ]
  },
  {
   "cell_type": "code",
   "execution_count": null,
   "id": "59054976",
   "metadata": {},
   "outputs": [],
   "source": []
  }
 ],
 "metadata": {
  "kernelspec": {
   "display_name": ".venv",
   "language": "python",
   "name": "python3"
  },
  "language_info": {
   "codemirror_mode": {
    "name": "ipython",
    "version": 3
   },
   "file_extension": ".py",
   "mimetype": "text/x-python",
   "name": "python",
   "nbconvert_exporter": "python",
   "pygments_lexer": "ipython3",
   "version": "3.11.10"
  }
 },
 "nbformat": 4,
 "nbformat_minor": 5
}
