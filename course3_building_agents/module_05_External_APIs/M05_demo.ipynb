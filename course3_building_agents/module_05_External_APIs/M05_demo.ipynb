{
 "cells": [
  {
   "cell_type": "markdown",
   "id": "264e6c14",
   "metadata": {},
   "source": [
    "# Module 05: External APIs\n",
    "This notebook demonstrates how to call real APIs."
   ]
  },
  {
   "cell_type": "markdown",
   "id": "b6e5ca62",
   "metadata": {},
   "source": [
    "## What we'll learn:\n",
    "- GET\n",
    "- POST\n",
    "- PUT\n",
    "- API Key\n",
    "- Status Codes"
   ]
  },
  {
   "cell_type": "markdown",
   "id": "dcecd715",
   "metadata": {},
   "source": [
    "### Setup"
   ]
  },
  {
   "cell_type": "code",
   "execution_count": 1,
   "id": "2aafeb1d",
   "metadata": {},
   "outputs": [],
   "source": [
    "import os\n",
    "import random\n",
    "import requests\n",
    "from dotenv import load_dotenv"
   ]
  },
  {
   "cell_type": "code",
   "execution_count": 2,
   "id": "b77b4337",
   "metadata": {},
   "outputs": [
    {
     "data": {
      "text/plain": [
       "True"
      ]
     },
     "execution_count": 2,
     "metadata": {},
     "output_type": "execute_result"
    }
   ],
   "source": [
    "load_dotenv()"
   ]
  },
  {
   "cell_type": "markdown",
   "id": "bdeee6bb",
   "metadata": {},
   "source": [
    "## GET REQUEST"
   ]
  },
  {
   "cell_type": "markdown",
   "id": "27fd4cb2",
   "metadata": {},
   "source": [
    "**Pokémon**"
   ]
  },
  {
   "cell_type": "code",
   "execution_count": 3,
   "id": "20478fa2",
   "metadata": {},
   "outputs": [],
   "source": [
    "URL = \"https://pokeapi.co/api/v2/pokemon?limit=151\"\n",
    "\n",
    "response = requests.get(url=URL)"
   ]
  },
  {
   "cell_type": "code",
   "execution_count": 4,
   "id": "6ac2784f",
   "metadata": {},
   "outputs": [
    {
     "data": {
      "text/plain": [
       "<Response [200]>"
      ]
     },
     "execution_count": 4,
     "metadata": {},
     "output_type": "execute_result"
    }
   ],
   "source": [
    "response"
   ]
  },
  {
   "cell_type": "code",
   "execution_count": 5,
   "id": "0d84a1ac",
   "metadata": {},
   "outputs": [
    {
     "data": {
      "text/plain": [
       "{'name': 'venonat', 'url': 'https://pokeapi.co/api/v2/pokemon/48/'}"
      ]
     },
     "execution_count": 5,
     "metadata": {},
     "output_type": "execute_result"
    }
   ],
   "source": [
    "random.choice(response.json()['results'])"
   ]
  },
  {
   "cell_type": "markdown",
   "id": "d1f21aa0",
   "metadata": {},
   "source": [
    "**Open Weather**"
   ]
  },
  {
   "cell_type": "code",
   "execution_count": 6,
   "id": "934594a0",
   "metadata": {},
   "outputs": [],
   "source": [
    "BASE_URL = \"https://api.openweathermap.org/data/2.5/weather\"\n",
    "API_KEY = os.getenv(\"OPENWEATHER_API_KEY\")\n",
    "CITY = \"Sao Paulo\"\n",
    "\n",
    "URL = f\"{BASE_URL}?appid={API_KEY}&q={CITY}&units=metric\"\n",
    "\n",
    "response = requests.get(\n",
    "    url=URL,\n",
    ")"
   ]
  },
  {
   "cell_type": "code",
   "execution_count": 7,
   "id": "e77c52f6",
   "metadata": {},
   "outputs": [
    {
     "data": {
      "text/plain": [
       "<Response [200]>"
      ]
     },
     "execution_count": 7,
     "metadata": {},
     "output_type": "execute_result"
    }
   ],
   "source": [
    "response"
   ]
  },
  {
   "cell_type": "code",
   "execution_count": 8,
   "id": "78e96794",
   "metadata": {},
   "outputs": [
    {
     "data": {
      "text/plain": [
       "{'coord': {'lon': -46.6361, 'lat': -23.5475},\n",
       " 'weather': [{'id': 701,\n",
       "   'main': 'Mist',\n",
       "   'description': 'mist',\n",
       "   'icon': '50d'}],\n",
       " 'base': 'stations',\n",
       " 'main': {'temp': 11.39,\n",
       "  'feels_like': 11.09,\n",
       "  'temp_min': 10.75,\n",
       "  'temp_max': 12.84,\n",
       "  'pressure': 1029,\n",
       "  'humidity': 96,\n",
       "  'sea_level': 1029,\n",
       "  'grnd_level': 937},\n",
       " 'visibility': 10000,\n",
       " 'wind': {'speed': 3.13, 'deg': 161, 'gust': 4.02},\n",
       " 'clouds': {'all': 100},\n",
       " 'dt': 1751543477,\n",
       " 'sys': {'type': 1,\n",
       "  'id': 8394,\n",
       "  'country': 'BR',\n",
       "  'sunrise': 1751536149,\n",
       "  'sunset': 1751574728},\n",
       " 'timezone': -10800,\n",
       " 'id': 3448439,\n",
       " 'name': 'São Paulo',\n",
       " 'cod': 200}"
      ]
     },
     "execution_count": 8,
     "metadata": {},
     "output_type": "execute_result"
    }
   ],
   "source": [
    "response.json()"
   ]
  },
  {
   "cell_type": "markdown",
   "id": "b77db1b7",
   "metadata": {},
   "source": [
    "**Exchange Rate API**"
   ]
  },
  {
   "cell_type": "code",
   "execution_count": 9,
   "id": "bbc23ed2",
   "metadata": {},
   "outputs": [],
   "source": [
    "BASE_URL = \"https://v6.exchangerate-api.com/v6\"\n",
    "API_KEY = os.getenv(\"EXCHANGERATE_API_KEY\")\n",
    "CURRENCY = \"USD\"\n",
    "\n",
    "URL = f\"{BASE_URL}/{API_KEY}/latest/{CURRENCY}\"\n",
    "\n",
    "response = requests.get(\n",
    "    url=URL,\n",
    ")"
   ]
  },
  {
   "cell_type": "code",
   "execution_count": 10,
   "id": "32a3c8f8",
   "metadata": {},
   "outputs": [
    {
     "data": {
      "text/plain": [
       "<Response [200]>"
      ]
     },
     "execution_count": 10,
     "metadata": {},
     "output_type": "execute_result"
    }
   ],
   "source": [
    "response"
   ]
  },
  {
   "cell_type": "code",
   "execution_count": 11,
   "id": "81f52056",
   "metadata": {},
   "outputs": [
    {
     "data": {
      "text/plain": [
       "5.4661"
      ]
     },
     "execution_count": 11,
     "metadata": {},
     "output_type": "execute_result"
    }
   ],
   "source": [
    "response.json()[\"conversion_rates\"][\"BRL\"]"
   ]
  },
  {
   "cell_type": "markdown",
   "id": "8b9c9987",
   "metadata": {},
   "source": [
    "## POST & PUT"
   ]
  },
  {
   "cell_type": "markdown",
   "id": "b2bd2b16",
   "metadata": {},
   "source": [
    "**JSON PLACEHOLDER**"
   ]
  },
  {
   "cell_type": "markdown",
   "id": "85c80f71",
   "metadata": {},
   "source": [
    "Creating a new resource"
   ]
  },
  {
   "cell_type": "code",
   "execution_count": 12,
   "id": "8e481a7c",
   "metadata": {},
   "outputs": [],
   "source": [
    "URL = \"https://jsonplaceholder.typicode.com/posts\"\n",
    "DATA = {\n",
    "    \"title\": \"Building Agents\",\n",
    "    \"author\": \"Henrique Santana\",\n",
    "}\n",
    "\n",
    "response = requests.post(\n",
    "    url=URL,\n",
    "    data=DATA,\n",
    ")"
   ]
  },
  {
   "cell_type": "code",
   "execution_count": 13,
   "id": "e990132d",
   "metadata": {},
   "outputs": [
    {
     "data": {
      "text/plain": [
       "<Response [201]>"
      ]
     },
     "execution_count": 13,
     "metadata": {},
     "output_type": "execute_result"
    }
   ],
   "source": [
    "response"
   ]
  },
  {
   "cell_type": "code",
   "execution_count": 14,
   "id": "005b8e9a",
   "metadata": {},
   "outputs": [
    {
     "data": {
      "text/plain": [
       "{'title': 'Building Agents', 'author': 'Henrique Santana', 'id': 101}"
      ]
     },
     "execution_count": 14,
     "metadata": {},
     "output_type": "execute_result"
    }
   ],
   "source": [
    "response.json()"
   ]
  },
  {
   "cell_type": "markdown",
   "id": "4bfb0386",
   "metadata": {},
   "source": [
    "Getting Resource"
   ]
  },
  {
   "cell_type": "code",
   "execution_count": 15,
   "id": "81e40bd3",
   "metadata": {},
   "outputs": [],
   "source": [
    "URL = \"https://jsonplaceholder.typicode.com/posts/1\"\n",
    "\n",
    "response = requests.get(\n",
    "    url=URL,\n",
    ")"
   ]
  },
  {
   "cell_type": "code",
   "execution_count": 16,
   "id": "380be995",
   "metadata": {},
   "outputs": [
    {
     "data": {
      "text/plain": [
       "<Response [200]>"
      ]
     },
     "execution_count": 16,
     "metadata": {},
     "output_type": "execute_result"
    }
   ],
   "source": [
    "response"
   ]
  },
  {
   "cell_type": "code",
   "execution_count": 17,
   "id": "b978a916",
   "metadata": {},
   "outputs": [
    {
     "data": {
      "text/plain": [
       "{'userId': 1,\n",
       " 'id': 1,\n",
       " 'title': 'sunt aut facere repellat provident occaecati excepturi optio reprehenderit',\n",
       " 'body': 'quia et suscipit\\nsuscipit recusandae consequuntur expedita et cum\\nreprehenderit molestiae ut ut quas totam\\nnostrum rerum est autem sunt rem eveniet architecto'}"
      ]
     },
     "execution_count": 17,
     "metadata": {},
     "output_type": "execute_result"
    }
   ],
   "source": [
    "response.json()"
   ]
  },
  {
   "cell_type": "markdown",
   "id": "c4dbe3da",
   "metadata": {},
   "source": [
    "Updating that resource"
   ]
  },
  {
   "cell_type": "code",
   "execution_count": 18,
   "id": "8961dff0",
   "metadata": {},
   "outputs": [],
   "source": [
    "URL = \"https://jsonplaceholder.typicode.com/posts/1\"\n",
    "DATA = {\n",
    "    \"title\": \"New title\",\n",
    "    \"body\": \"New body\",\n",
    "}\n",
    "\n",
    "response = requests.put(\n",
    "    url=URL,\n",
    "    data=DATA,\n",
    ")"
   ]
  },
  {
   "cell_type": "code",
   "execution_count": 19,
   "id": "c84a4ef9",
   "metadata": {},
   "outputs": [
    {
     "data": {
      "text/plain": [
       "<Response [200]>"
      ]
     },
     "execution_count": 19,
     "metadata": {},
     "output_type": "execute_result"
    }
   ],
   "source": [
    "response"
   ]
  },
  {
   "cell_type": "code",
   "execution_count": 20,
   "id": "dbe31acb",
   "metadata": {},
   "outputs": [
    {
     "data": {
      "text/plain": [
       "{'title': 'New title', 'body': 'New body', 'id': 1}"
      ]
     },
     "execution_count": 20,
     "metadata": {},
     "output_type": "execute_result"
    }
   ],
   "source": [
    "response.json()"
   ]
  },
  {
   "cell_type": "code",
   "execution_count": null,
   "id": "ccbd8900",
   "metadata": {},
   "outputs": [],
   "source": []
  }
 ],
 "metadata": {
  "kernelspec": {
   "display_name": ".venv",
   "language": "python",
   "name": "python3"
  },
  "language_info": {
   "codemirror_mode": {
    "name": "ipython",
    "version": 3
   },
   "file_extension": ".py",
   "mimetype": "text/x-python",
   "name": "python",
   "nbconvert_exporter": "python",
   "pygments_lexer": "ipython3",
   "version": "3.11.10"
  }
 },
 "nbformat": 4,
 "nbformat_minor": 5
}
